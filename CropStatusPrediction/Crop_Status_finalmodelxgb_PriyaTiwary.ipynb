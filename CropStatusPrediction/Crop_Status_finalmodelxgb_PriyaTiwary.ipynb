{
 "cells": [
  {
   "cell_type": "code",
   "execution_count": 1,
   "metadata": {},
   "outputs": [],
   "source": [
    "import numpy as np\n",
    "import pandas as pd\n",
    "import matplotlib.pyplot as plt\n",
    "import seaborn as sns\n",
    "sns.set()\n",
    "%matplotlib inline"
   ]
  },
  {
   "cell_type": "markdown",
   "metadata": {},
   "source": [
    "## FETCHING DATA"
   ]
  },
  {
   "cell_type": "code",
   "execution_count": 2,
   "metadata": {},
   "outputs": [
    {
     "data": {
      "text/html": [
       "<div>\n",
       "<style scoped>\n",
       "    .dataframe tbody tr th:only-of-type {\n",
       "        vertical-align: middle;\n",
       "    }\n",
       "\n",
       "    .dataframe tbody tr th {\n",
       "        vertical-align: top;\n",
       "    }\n",
       "\n",
       "    .dataframe thead th {\n",
       "        text-align: right;\n",
       "    }\n",
       "</style>\n",
       "<table border=\"1\" class=\"dataframe\">\n",
       "  <thead>\n",
       "    <tr style=\"text-align: right;\">\n",
       "      <th></th>\n",
       "      <th>ID</th>\n",
       "      <th>Insects</th>\n",
       "      <th>Crop</th>\n",
       "      <th>Soil</th>\n",
       "      <th>Category_of_Toxicant</th>\n",
       "      <th>Does_count</th>\n",
       "      <th>Number_of_Weeks_Used</th>\n",
       "      <th>Number_Weeks_does_not used</th>\n",
       "      <th>Season</th>\n",
       "      <th>Crop_status</th>\n",
       "    </tr>\n",
       "  </thead>\n",
       "  <tbody>\n",
       "    <tr>\n",
       "      <th>0</th>\n",
       "      <td>1</td>\n",
       "      <td>188</td>\n",
       "      <td>Feed</td>\n",
       "      <td>clay</td>\n",
       "      <td>1</td>\n",
       "      <td>0</td>\n",
       "      <td>0.0</td>\n",
       "      <td>0</td>\n",
       "      <td>1</td>\n",
       "      <td>0</td>\n",
       "    </tr>\n",
       "    <tr>\n",
       "      <th>1</th>\n",
       "      <td>2</td>\n",
       "      <td>209</td>\n",
       "      <td>Feed</td>\n",
       "      <td>clay</td>\n",
       "      <td>1</td>\n",
       "      <td>0</td>\n",
       "      <td>0.0</td>\n",
       "      <td>0</td>\n",
       "      <td>2</td>\n",
       "      <td>1</td>\n",
       "    </tr>\n",
       "    <tr>\n",
       "      <th>2</th>\n",
       "      <td>3</td>\n",
       "      <td>257</td>\n",
       "      <td>Feed</td>\n",
       "      <td>clay</td>\n",
       "      <td>1</td>\n",
       "      <td>0</td>\n",
       "      <td>0.0</td>\n",
       "      <td>0</td>\n",
       "      <td>2</td>\n",
       "      <td>1</td>\n",
       "    </tr>\n",
       "    <tr>\n",
       "      <th>3</th>\n",
       "      <td>4</td>\n",
       "      <td>257</td>\n",
       "      <td>Feed</td>\n",
       "      <td>silt</td>\n",
       "      <td>1</td>\n",
       "      <td>0</td>\n",
       "      <td>0.0</td>\n",
       "      <td>0</td>\n",
       "      <td>2</td>\n",
       "      <td>1</td>\n",
       "    </tr>\n",
       "    <tr>\n",
       "      <th>4</th>\n",
       "      <td>5</td>\n",
       "      <td>342</td>\n",
       "      <td>Feed</td>\n",
       "      <td>clay</td>\n",
       "      <td>1</td>\n",
       "      <td>0</td>\n",
       "      <td>0.0</td>\n",
       "      <td>0</td>\n",
       "      <td>2</td>\n",
       "      <td>1</td>\n",
       "    </tr>\n",
       "  </tbody>\n",
       "</table>\n",
       "</div>"
      ],
      "text/plain": [
       "   ID  Insects  Crop  Soil  Category_of_Toxicant  Does_count  \\\n",
       "0   1      188  Feed  clay                     1           0   \n",
       "1   2      209  Feed  clay                     1           0   \n",
       "2   3      257  Feed  clay                     1           0   \n",
       "3   4      257  Feed  silt                     1           0   \n",
       "4   5      342  Feed  clay                     1           0   \n",
       "\n",
       "   Number_of_Weeks_Used  Number_Weeks_does_not used  Season  Crop_status  \n",
       "0                   0.0                           0       1            0  \n",
       "1                   0.0                           0       2            1  \n",
       "2                   0.0                           0       2            1  \n",
       "3                   0.0                           0       2            1  \n",
       "4                   0.0                           0       2            1  "
      ]
     },
     "execution_count": 2,
     "metadata": {},
     "output_type": "execute_result"
    }
   ],
   "source": [
    "dataset = pd.read_excel('/Users/priya/Desktop/Bootcamp_ml_problem/train_cropstatus.xlsx')\n",
    "data = dataset.copy()\n",
    "data.head()"
   ]
  },
  {
   "cell_type": "code",
   "execution_count": 3,
   "metadata": {},
   "outputs": [
    {
     "data": {
      "text/html": [
       "<div>\n",
       "<style scoped>\n",
       "    .dataframe tbody tr th:only-of-type {\n",
       "        vertical-align: middle;\n",
       "    }\n",
       "\n",
       "    .dataframe tbody tr th {\n",
       "        vertical-align: top;\n",
       "    }\n",
       "\n",
       "    .dataframe thead th {\n",
       "        text-align: right;\n",
       "    }\n",
       "</style>\n",
       "<table border=\"1\" class=\"dataframe\">\n",
       "  <thead>\n",
       "    <tr style=\"text-align: right;\">\n",
       "      <th></th>\n",
       "      <th>Insects</th>\n",
       "      <th>Crop</th>\n",
       "      <th>Soil</th>\n",
       "      <th>Category_of_Toxicant</th>\n",
       "      <th>Does_count</th>\n",
       "      <th>Number_of_Weeks_Used</th>\n",
       "      <th>Number_Weeks_does_not used</th>\n",
       "      <th>Season</th>\n",
       "      <th>Crop_status</th>\n",
       "    </tr>\n",
       "  </thead>\n",
       "  <tbody>\n",
       "    <tr>\n",
       "      <th>0</th>\n",
       "      <td>188</td>\n",
       "      <td>Feed</td>\n",
       "      <td>clay</td>\n",
       "      <td>1</td>\n",
       "      <td>0</td>\n",
       "      <td>0.0</td>\n",
       "      <td>0</td>\n",
       "      <td>1</td>\n",
       "      <td>0</td>\n",
       "    </tr>\n",
       "    <tr>\n",
       "      <th>1</th>\n",
       "      <td>209</td>\n",
       "      <td>Feed</td>\n",
       "      <td>clay</td>\n",
       "      <td>1</td>\n",
       "      <td>0</td>\n",
       "      <td>0.0</td>\n",
       "      <td>0</td>\n",
       "      <td>2</td>\n",
       "      <td>1</td>\n",
       "    </tr>\n",
       "    <tr>\n",
       "      <th>2</th>\n",
       "      <td>257</td>\n",
       "      <td>Feed</td>\n",
       "      <td>clay</td>\n",
       "      <td>1</td>\n",
       "      <td>0</td>\n",
       "      <td>0.0</td>\n",
       "      <td>0</td>\n",
       "      <td>2</td>\n",
       "      <td>1</td>\n",
       "    </tr>\n",
       "    <tr>\n",
       "      <th>3</th>\n",
       "      <td>257</td>\n",
       "      <td>Feed</td>\n",
       "      <td>silt</td>\n",
       "      <td>1</td>\n",
       "      <td>0</td>\n",
       "      <td>0.0</td>\n",
       "      <td>0</td>\n",
       "      <td>2</td>\n",
       "      <td>1</td>\n",
       "    </tr>\n",
       "    <tr>\n",
       "      <th>4</th>\n",
       "      <td>342</td>\n",
       "      <td>Feed</td>\n",
       "      <td>clay</td>\n",
       "      <td>1</td>\n",
       "      <td>0</td>\n",
       "      <td>0.0</td>\n",
       "      <td>0</td>\n",
       "      <td>2</td>\n",
       "      <td>1</td>\n",
       "    </tr>\n",
       "  </tbody>\n",
       "</table>\n",
       "</div>"
      ],
      "text/plain": [
       "   Insects  Crop  Soil  Category_of_Toxicant  Does_count  \\\n",
       "0      188  Feed  clay                     1           0   \n",
       "1      209  Feed  clay                     1           0   \n",
       "2      257  Feed  clay                     1           0   \n",
       "3      257  Feed  silt                     1           0   \n",
       "4      342  Feed  clay                     1           0   \n",
       "\n",
       "   Number_of_Weeks_Used  Number_Weeks_does_not used  Season  Crop_status  \n",
       "0                   0.0                           0       1            0  \n",
       "1                   0.0                           0       2            1  \n",
       "2                   0.0                           0       2            1  \n",
       "3                   0.0                           0       2            1  \n",
       "4                   0.0                           0       2            1  "
      ]
     },
     "execution_count": 3,
     "metadata": {},
     "output_type": "execute_result"
    }
   ],
   "source": [
    "#removing id column\n",
    "data = data.iloc[:,1:]\n",
    "data.head()"
   ]
  },
  {
   "cell_type": "code",
   "execution_count": 4,
   "metadata": {},
   "outputs": [
    {
     "data": {
      "text/html": [
       "<div>\n",
       "<style scoped>\n",
       "    .dataframe tbody tr th:only-of-type {\n",
       "        vertical-align: middle;\n",
       "    }\n",
       "\n",
       "    .dataframe tbody tr th {\n",
       "        vertical-align: top;\n",
       "    }\n",
       "\n",
       "    .dataframe thead th {\n",
       "        text-align: right;\n",
       "    }\n",
       "</style>\n",
       "<table border=\"1\" class=\"dataframe\">\n",
       "  <thead>\n",
       "    <tr style=\"text-align: right;\">\n",
       "      <th></th>\n",
       "      <th>Insects</th>\n",
       "      <th>Crop</th>\n",
       "      <th>Soil</th>\n",
       "      <th>Category_of_Toxicant</th>\n",
       "      <th>Does_count</th>\n",
       "      <th>Number_of_Weeks_Used</th>\n",
       "      <th>Number_Weeks_does_not used</th>\n",
       "      <th>Season</th>\n",
       "      <th>Crop_status</th>\n",
       "    </tr>\n",
       "  </thead>\n",
       "  <tbody>\n",
       "    <tr>\n",
       "      <th>79995</th>\n",
       "      <td>209</td>\n",
       "      <td>Food</td>\n",
       "      <td>silt</td>\n",
       "      <td>2</td>\n",
       "      <td>20</td>\n",
       "      <td>12.0</td>\n",
       "      <td>6</td>\n",
       "      <td>2</td>\n",
       "      <td>0</td>\n",
       "    </tr>\n",
       "    <tr>\n",
       "      <th>79996</th>\n",
       "      <td>232</td>\n",
       "      <td>Food</td>\n",
       "      <td>silt</td>\n",
       "      <td>2</td>\n",
       "      <td>20</td>\n",
       "      <td>12.0</td>\n",
       "      <td>9</td>\n",
       "      <td>1</td>\n",
       "      <td>0</td>\n",
       "    </tr>\n",
       "    <tr>\n",
       "      <th>79997</th>\n",
       "      <td>256</td>\n",
       "      <td>Food</td>\n",
       "      <td>silt</td>\n",
       "      <td>2</td>\n",
       "      <td>10</td>\n",
       "      <td>14.0</td>\n",
       "      <td>10</td>\n",
       "      <td>1</td>\n",
       "      <td>0</td>\n",
       "    </tr>\n",
       "    <tr>\n",
       "      <th>79998</th>\n",
       "      <td>256</td>\n",
       "      <td>Food</td>\n",
       "      <td>silt</td>\n",
       "      <td>2</td>\n",
       "      <td>10</td>\n",
       "      <td>16.0</td>\n",
       "      <td>8</td>\n",
       "      <td>2</td>\n",
       "      <td>0</td>\n",
       "    </tr>\n",
       "    <tr>\n",
       "      <th>79999</th>\n",
       "      <td>256</td>\n",
       "      <td>Food</td>\n",
       "      <td>silt</td>\n",
       "      <td>2</td>\n",
       "      <td>20</td>\n",
       "      <td>11.0</td>\n",
       "      <td>10</td>\n",
       "      <td>2</td>\n",
       "      <td>0</td>\n",
       "    </tr>\n",
       "  </tbody>\n",
       "</table>\n",
       "</div>"
      ],
      "text/plain": [
       "       Insects  Crop  Soil  Category_of_Toxicant  Does_count  \\\n",
       "79995      209  Food  silt                     2          20   \n",
       "79996      232  Food  silt                     2          20   \n",
       "79997      256  Food  silt                     2          10   \n",
       "79998      256  Food  silt                     2          10   \n",
       "79999      256  Food  silt                     2          20   \n",
       "\n",
       "       Number_of_Weeks_Used  Number_Weeks_does_not used  Season  Crop_status  \n",
       "79995                  12.0                           6       2            0  \n",
       "79996                  12.0                           9       1            0  \n",
       "79997                  14.0                          10       1            0  \n",
       "79998                  16.0                           8       2            0  \n",
       "79999                  11.0                          10       2            0  "
      ]
     },
     "execution_count": 4,
     "metadata": {},
     "output_type": "execute_result"
    }
   ],
   "source": [
    "data.tail()"
   ]
  },
  {
   "cell_type": "markdown",
   "metadata": {},
   "source": [
    "## EXPLAINING DATA:"
   ]
  },
  {
   "cell_type": "code",
   "execution_count": 5,
   "metadata": {},
   "outputs": [
    {
     "data": {
      "text/plain": [
       "(80000, 9)"
      ]
     },
     "execution_count": 5,
     "metadata": {},
     "output_type": "execute_result"
    }
   ],
   "source": [
    "data.shape"
   ]
  },
  {
   "cell_type": "markdown",
   "metadata": {},
   "source": [
    "so we have a total 80,000 columns and 9 features where we have 8 dependent and 1 independent feature."
   ]
  },
  {
   "cell_type": "code",
   "execution_count": 6,
   "metadata": {},
   "outputs": [
    {
     "name": "stdout",
     "output_type": "stream",
     "text": [
      "<class 'pandas.core.frame.DataFrame'>\n",
      "RangeIndex: 80000 entries, 0 to 79999\n",
      "Data columns (total 9 columns):\n",
      " #   Column                      Non-Null Count  Dtype  \n",
      "---  ------                      --------------  -----  \n",
      " 0   Insects                     80000 non-null  int64  \n",
      " 1   Crop                        80000 non-null  object \n",
      " 2   Soil                        80000 non-null  object \n",
      " 3   Category_of_Toxicant        80000 non-null  int64  \n",
      " 4   Does_count                  80000 non-null  int64  \n",
      " 5   Number_of_Weeks_Used        71945 non-null  float64\n",
      " 6   Number_Weeks_does_not used  80000 non-null  int64  \n",
      " 7   Season                      80000 non-null  int64  \n",
      " 8   Crop_status                 80000 non-null  int64  \n",
      "dtypes: float64(1), int64(6), object(2)\n",
      "memory usage: 5.5+ MB\n"
     ]
    }
   ],
   "source": [
    "data.info()"
   ]
  },
  {
   "cell_type": "markdown",
   "metadata": {},
   "source": [
    "Among our dependent features, we have two features with object data type : Crop and Soil.\n",
    "\n",
    "\n",
    "Also one feature i.e Number_of_Weeks_Used has data type float and rest have integer data type.\n",
    "\n",
    "Feature explanation:\n",
    "\n",
    "Insects - Average number of insects that (may) affect the crop.\n",
    "\n",
    "Crop - Type of crop \n",
    "\n",
    "Soil - Type of soil \n",
    "\n",
    "Category_of_Toxicant - Values 1, 2, 3 represent three different toxicants available in the market.\n",
    "\n",
    "Does_count - Represents the dosage count of toxicants.\n",
    "\n",
    "Number_of_Weeks_Used - Represents the number of weeks for which the crop remained toxicant.\n",
    "\n",
    "Number_Weeks_does_not used - Represents the number of weeks that the toxicants are used on the crop.\n",
    "\n",
    "Season - Represents the various seasons (Monsoon, etc.,)"
   ]
  },
  {
   "cell_type": "code",
   "execution_count": 7,
   "metadata": {},
   "outputs": [
    {
     "data": {
      "text/plain": [
       "Insects                          0\n",
       "Crop                             0\n",
       "Soil                             0\n",
       "Category_of_Toxicant             0\n",
       "Does_count                       0\n",
       "Number_of_Weeks_Used          8055\n",
       "Number_Weeks_does_not used       0\n",
       "Season                           0\n",
       "Crop_status                      0\n",
       "dtype: int64"
      ]
     },
     "execution_count": 7,
     "metadata": {},
     "output_type": "execute_result"
    }
   ],
   "source": [
    "#check for null values\n",
    "data.isna().sum()"
   ]
  },
  {
   "cell_type": "code",
   "execution_count": 8,
   "metadata": {},
   "outputs": [
    {
     "data": {
      "text/plain": [
       "<matplotlib.axes._subplots.AxesSubplot at 0x7f8e5d163340>"
      ]
     },
     "execution_count": 8,
     "metadata": {},
     "output_type": "execute_result"
    },
    {
     "data": {
      "image/png": "[encoded data removed]",
      "text/plain": [
       "<Figure size 432x288 with 1 Axes>"
      ]
     },
     "metadata": {
      "needs_background": "light"
     },
     "output_type": "display_data"
    }
   ],
   "source": [
    "#plotting the same\n",
    "sns.heatmap(data.isnull(), cbar=False)"
   ]
  },
  {
   "cell_type": "markdown",
   "metadata": {},
   "source": [
    "We can see that we have 8055 null values in Number_of_Weeks_Used."
   ]
  },
  {
   "cell_type": "markdown",
   "metadata": {},
   "source": [
    "### Exploring target variable : Crop_status"
   ]
  },
  {
   "cell_type": "code",
   "execution_count": 9,
   "metadata": {},
   "outputs": [
    {
     "data": {
      "text/plain": [
       "0    66716\n",
       "1    11183\n",
       "2     2101\n",
       "Name: Crop_status, dtype: int64"
      ]
     },
     "execution_count": 9,
     "metadata": {},
     "output_type": "execute_result"
    }
   ],
   "source": [
    "#exploring target variable : Crop_status\n",
    "data.Crop_status.value_counts()"
   ]
  },
  {
   "cell_type": "markdown",
   "metadata": {},
   "source": [
    "we can see that we have 3 classes in our target variable.\n",
    "\n",
    "\n",
    "As described in problem statement,\n",
    "\n",
    "\n",
    "0 ---> ‘Crop can be used further’\n",
    "\n",
    "1 ---->crop is damaged due to nature\n",
    "\n",
    "2 ----> toxicants"
   ]
  },
  {
   "cell_type": "code",
   "execution_count": 10,
   "metadata": {},
   "outputs": [
    {
     "data": {
      "image/png": "[encoded data removed]",
      "text/plain": [
       "<Figure size 432x288 with 1 Axes>"
      ]
     },
     "metadata": {
      "needs_background": "light"
     },
     "output_type": "display_data"
    }
   ],
   "source": [
    "#plotting the same\n",
    "data.Crop_status.value_counts().plot(kind=\"bar\",color=['red','lightblue','green']);"
   ]
  },
  {
   "cell_type": "markdown",
   "metadata": {},
   "source": [
    "### Seeing correlation"
   ]
  },
  {
   "cell_type": "code",
   "execution_count": 11,
   "metadata": {},
   "outputs": [
    {
     "data": {
      "image/png": "[encoded data removed]",
      "text/plain": [
       "<Figure size 1080x1080 with 2 Axes>"
      ]
     },
     "metadata": {
      "needs_background": "light"
     },
     "output_type": "display_data"
    }
   ],
   "source": [
    "#correlation matrix\n",
    "corr_matrix = data.corr()\n",
    "fig, ax = plt.subplots(figsize=(15, 15))\n",
    "ax = sns.heatmap(corr_matrix,\n",
    "                 annot=True,\n",
    "                 linewidths=0.5,\n",
    "                 fmt=\".2f\",\n",
    "                 cmap=\"YlGnBu\");"
   ]
  },
  {
   "cell_type": "code",
   "execution_count": 12,
   "metadata": {},
   "outputs": [
    {
     "data": {
      "text/plain": [
       "<matplotlib.axes._subplots.AxesSubplot at 0x7f8e5cfc72b0>"
      ]
     },
     "execution_count": 12,
     "metadata": {},
     "output_type": "execute_result"
    },
    {
     "data": {
      "image/png": "[encoded data removed]",
      "text/plain": [
       "<Figure size 864x576 with 1 Axes>"
      ]
     },
     "metadata": {
      "needs_background": "light"
     },
     "output_type": "display_data"
    }
   ],
   "source": [
    "#correlation with target\n",
    "data.drop('Crop_status', axis=1).corrwith(data.Crop_status).plot(kind='bar', grid=True,\n",
    "                                                   figsize=(12, 8),title=\"Correlation with target\")"
   ]
  },
  {
   "cell_type": "markdown",
   "metadata": {},
   "source": [
    "## SPLITTING INTO CATEGORICAL & NUMERICAL cols:"
   ]
  },
  {
   "cell_type": "code",
   "execution_count": 13,
   "metadata": {},
   "outputs": [],
   "source": [
    "#continuous cols\n",
    "continuous=[]\n",
    "categorical=[]\n",
    "for col in data.columns:\n",
    "    if len(data[col].unique()) <= 25:\n",
    "        categorical.append(col)\n",
    "    else:\n",
    "        continuous.append(col)"
   ]
  },
  {
   "cell_type": "code",
   "execution_count": 14,
   "metadata": {},
   "outputs": [
    {
     "data": {
      "text/plain": [
       "['Crop', 'Soil', 'Category_of_Toxicant', 'Does_count', 'Season', 'Crop_status']"
      ]
     },
     "execution_count": 14,
     "metadata": {},
     "output_type": "execute_result"
    }
   ],
   "source": [
    "categorical"
   ]
  },
  {
   "cell_type": "code",
   "execution_count": 15,
   "metadata": {},
   "outputs": [
    {
     "data": {
      "text/plain": [
       "['Crop', 'Soil', 'Category_of_Toxicant', 'Does_count', 'Season', 'Crop_status']"
      ]
     },
     "execution_count": 15,
     "metadata": {},
     "output_type": "execute_result"
    }
   ],
   "source": [
    "categorical"
   ]
  },
  {
   "cell_type": "code",
   "execution_count": 16,
   "metadata": {},
   "outputs": [
    {
     "data": {
      "text/plain": [
       "['Insects', 'Number_of_Weeks_Used', 'Number_Weeks_does_not used']"
      ]
     },
     "execution_count": 16,
     "metadata": {},
     "output_type": "execute_result"
    }
   ],
   "source": [
    "continuous"
   ]
  },
  {
   "cell_type": "markdown",
   "metadata": {},
   "source": [
    "## PLOTTING CATEGORICAL COLS:"
   ]
  },
  {
   "cell_type": "code",
   "execution_count": 17,
   "metadata": {},
   "outputs": [
    {
     "name": "stdout",
     "output_type": "stream",
     "text": [
      "Value counts in Crop\n",
      "Food    57333\n",
      "Feed    22667\n",
      "Name: Crop, dtype: int64\n",
      "Value counts in Soil\n",
      "clay    43556\n",
      "silt    36444\n",
      "Name: Soil, dtype: int64\n",
      "Value counts in Category_of_Toxicant\n",
      "2    57067\n",
      "3    22170\n",
      "1      763\n",
      "Name: Category_of_Toxicant, dtype: int64\n",
      "Value counts in Does_count\n",
      "20    20344\n",
      "40    11040\n",
      "10    10881\n",
      "30     9388\n",
      "15     7405\n",
      "5      4962\n",
      "25     4396\n",
      "60     3932\n",
      "50     3056\n",
      "35     1654\n",
      "45      829\n",
      "0       763\n",
      "80      602\n",
      "70      274\n",
      "55      250\n",
      "90       78\n",
      "65       57\n",
      "75       55\n",
      "95       28\n",
      "85        6\n",
      "Name: Does_count, dtype: int64\n",
      "Value counts in Season\n",
      "2    39728\n",
      "1    24233\n",
      "3    16039\n",
      "Name: Season, dtype: int64\n",
      "Value counts in Crop_status\n",
      "0    66716\n",
      "1    11183\n",
      "2     2101\n",
      "Name: Crop_status, dtype: int64\n"
     ]
    }
   ],
   "source": [
    "#seeing values in categorical columns:\n",
    "for i in categorical:\n",
    "    print(\"Value counts in \"+str(i))\n",
    "    print(data[i].value_counts())"
   ]
  },
  {
   "cell_type": "code",
   "execution_count": 18,
   "metadata": {},
   "outputs": [
    {
     "data": {
      "image/png": "[encoded data removed]",
      "text/plain": [
       "<Figure size 864x864 with 4 Axes>"
      ]
     },
     "metadata": {
      "needs_background": "light"
     },
     "output_type": "display_data"
    }
   ],
   "source": [
    "#plotting the same\n",
    "fig, ax = plt.subplots(2, 2, figsize=(12, 12))\n",
    "for variable, subplot in zip(categorical, ax.flatten()):\n",
    "    sns.countplot(data[variable], ax=subplot)\n",
    "    plt.xlabel(variable)\n",
    "    for label in subplot.get_xticklabels():\n",
    "        label.set_rotation(90)"
   ]
  },
  {
   "cell_type": "markdown",
   "metadata": {},
   "source": [
    "## PLOTTING CONTINUOUS COLS:"
   ]
  },
  {
   "cell_type": "code",
   "execution_count": 19,
   "metadata": {},
   "outputs": [
    {
     "data": {
      "image/png": "[encoded data removed]",
      "text/plain": [
       "<Figure size 1080x1080 with 3 Axes>"
      ]
     },
     "metadata": {
      "needs_background": "light"
     },
     "output_type": "display_data"
    }
   ],
   "source": [
    "plt.figure(figsize=(15, 15))\n",
    "\n",
    "for i,col in enumerate(continuous, 1):\n",
    "    plt.subplot(2,2,i)\n",
    "    data[data['Crop_status']==0][col].hist(bins=10,color='red',label='Crop can be used further')\n",
    "    data[data['Crop_status']==1][col].hist(bins=10,color='lightblue',label='Crop is damaged due to nature')\n",
    "    data[data['Crop_status']==2][col].hist(bins=10,color='green',label='toxicants')\n",
    "    plt.legend()\n",
    "    plt.xlabel(col)"
   ]
  },
  {
   "cell_type": "code",
   "execution_count": 20,
   "metadata": {},
   "outputs": [
    {
     "data": {
      "text/html": [
       "<div>\n",
       "<style scoped>\n",
       "    .dataframe tbody tr th:only-of-type {\n",
       "        vertical-align: middle;\n",
       "    }\n",
       "\n",
       "    .dataframe tbody tr th {\n",
       "        vertical-align: top;\n",
       "    }\n",
       "\n",
       "    .dataframe thead th {\n",
       "        text-align: right;\n",
       "    }\n",
       "</style>\n",
       "<table border=\"1\" class=\"dataframe\">\n",
       "  <thead>\n",
       "    <tr style=\"text-align: right;\">\n",
       "      <th></th>\n",
       "      <th>ID</th>\n",
       "      <th>Insects</th>\n",
       "      <th>Crop</th>\n",
       "      <th>Soil</th>\n",
       "      <th>Category_of_Toxicant</th>\n",
       "      <th>Does_count</th>\n",
       "      <th>Number_of_Weeks_Used</th>\n",
       "      <th>Number_Weeks_does_not used</th>\n",
       "      <th>Season</th>\n",
       "      <th>Crop_status</th>\n",
       "    </tr>\n",
       "  </thead>\n",
       "  <tbody>\n",
       "    <tr>\n",
       "      <th>0</th>\n",
       "      <td>1</td>\n",
       "      <td>188</td>\n",
       "      <td>Feed</td>\n",
       "      <td>clay</td>\n",
       "      <td>1</td>\n",
       "      <td>0</td>\n",
       "      <td>0.0</td>\n",
       "      <td>0</td>\n",
       "      <td>1</td>\n",
       "      <td>0</td>\n",
       "    </tr>\n",
       "    <tr>\n",
       "      <th>1</th>\n",
       "      <td>2</td>\n",
       "      <td>209</td>\n",
       "      <td>Feed</td>\n",
       "      <td>clay</td>\n",
       "      <td>1</td>\n",
       "      <td>0</td>\n",
       "      <td>0.0</td>\n",
       "      <td>0</td>\n",
       "      <td>2</td>\n",
       "      <td>1</td>\n",
       "    </tr>\n",
       "    <tr>\n",
       "      <th>2</th>\n",
       "      <td>3</td>\n",
       "      <td>257</td>\n",
       "      <td>Feed</td>\n",
       "      <td>clay</td>\n",
       "      <td>1</td>\n",
       "      <td>0</td>\n",
       "      <td>0.0</td>\n",
       "      <td>0</td>\n",
       "      <td>2</td>\n",
       "      <td>1</td>\n",
       "    </tr>\n",
       "    <tr>\n",
       "      <th>3</th>\n",
       "      <td>4</td>\n",
       "      <td>257</td>\n",
       "      <td>Feed</td>\n",
       "      <td>silt</td>\n",
       "      <td>1</td>\n",
       "      <td>0</td>\n",
       "      <td>0.0</td>\n",
       "      <td>0</td>\n",
       "      <td>2</td>\n",
       "      <td>1</td>\n",
       "    </tr>\n",
       "    <tr>\n",
       "      <th>4</th>\n",
       "      <td>5</td>\n",
       "      <td>342</td>\n",
       "      <td>Feed</td>\n",
       "      <td>clay</td>\n",
       "      <td>1</td>\n",
       "      <td>0</td>\n",
       "      <td>0.0</td>\n",
       "      <td>0</td>\n",
       "      <td>2</td>\n",
       "      <td>1</td>\n",
       "    </tr>\n",
       "  </tbody>\n",
       "</table>\n",
       "</div>"
      ],
      "text/plain": [
       "   ID  Insects  Crop  Soil  Category_of_Toxicant  Does_count  \\\n",
       "0   1      188  Feed  clay                     1           0   \n",
       "1   2      209  Feed  clay                     1           0   \n",
       "2   3      257  Feed  clay                     1           0   \n",
       "3   4      257  Feed  silt                     1           0   \n",
       "4   5      342  Feed  clay                     1           0   \n",
       "\n",
       "   Number_of_Weeks_Used  Number_Weeks_does_not used  Season  Crop_status  \n",
       "0                   0.0                           0       1            0  \n",
       "1                   0.0                           0       2            1  \n",
       "2                   0.0                           0       2            1  \n",
       "3                   0.0                           0       2            1  \n",
       "4                   0.0                           0       2            1  "
      ]
     },
     "execution_count": 20,
     "metadata": {},
     "output_type": "execute_result"
    }
   ],
   "source": [
    "dataset = pd.read_excel('/Users/priya/Desktop/Bootcamp_ml_problem/train_cropstatus.xlsx')\n",
    "data = dataset.copy()\n",
    "data.head()"
   ]
  },
  {
   "cell_type": "code",
   "execution_count": 21,
   "metadata": {},
   "outputs": [
    {
     "data": {
      "text/html": [
       "<div>\n",
       "<style scoped>\n",
       "    .dataframe tbody tr th:only-of-type {\n",
       "        vertical-align: middle;\n",
       "    }\n",
       "\n",
       "    .dataframe tbody tr th {\n",
       "        vertical-align: top;\n",
       "    }\n",
       "\n",
       "    .dataframe thead th {\n",
       "        text-align: right;\n",
       "    }\n",
       "</style>\n",
       "<table border=\"1\" class=\"dataframe\">\n",
       "  <thead>\n",
       "    <tr style=\"text-align: right;\">\n",
       "      <th></th>\n",
       "      <th>Insects</th>\n",
       "      <th>Crop</th>\n",
       "      <th>Soil</th>\n",
       "      <th>Category_of_Toxicant</th>\n",
       "      <th>Does_count</th>\n",
       "      <th>Number_of_Weeks_Used</th>\n",
       "      <th>Number_Weeks_does_not used</th>\n",
       "      <th>Season</th>\n",
       "      <th>Crop_status</th>\n",
       "    </tr>\n",
       "  </thead>\n",
       "  <tbody>\n",
       "    <tr>\n",
       "      <th>0</th>\n",
       "      <td>188</td>\n",
       "      <td>Feed</td>\n",
       "      <td>clay</td>\n",
       "      <td>1</td>\n",
       "      <td>0</td>\n",
       "      <td>0.0</td>\n",
       "      <td>0</td>\n",
       "      <td>1</td>\n",
       "      <td>0</td>\n",
       "    </tr>\n",
       "    <tr>\n",
       "      <th>1</th>\n",
       "      <td>209</td>\n",
       "      <td>Feed</td>\n",
       "      <td>clay</td>\n",
       "      <td>1</td>\n",
       "      <td>0</td>\n",
       "      <td>0.0</td>\n",
       "      <td>0</td>\n",
       "      <td>2</td>\n",
       "      <td>1</td>\n",
       "    </tr>\n",
       "    <tr>\n",
       "      <th>2</th>\n",
       "      <td>257</td>\n",
       "      <td>Feed</td>\n",
       "      <td>clay</td>\n",
       "      <td>1</td>\n",
       "      <td>0</td>\n",
       "      <td>0.0</td>\n",
       "      <td>0</td>\n",
       "      <td>2</td>\n",
       "      <td>1</td>\n",
       "    </tr>\n",
       "    <tr>\n",
       "      <th>3</th>\n",
       "      <td>257</td>\n",
       "      <td>Feed</td>\n",
       "      <td>silt</td>\n",
       "      <td>1</td>\n",
       "      <td>0</td>\n",
       "      <td>0.0</td>\n",
       "      <td>0</td>\n",
       "      <td>2</td>\n",
       "      <td>1</td>\n",
       "    </tr>\n",
       "    <tr>\n",
       "      <th>4</th>\n",
       "      <td>342</td>\n",
       "      <td>Feed</td>\n",
       "      <td>clay</td>\n",
       "      <td>1</td>\n",
       "      <td>0</td>\n",
       "      <td>0.0</td>\n",
       "      <td>0</td>\n",
       "      <td>2</td>\n",
       "      <td>1</td>\n",
       "    </tr>\n",
       "  </tbody>\n",
       "</table>\n",
       "</div>"
      ],
      "text/plain": [
       "   Insects  Crop  Soil  Category_of_Toxicant  Does_count  \\\n",
       "0      188  Feed  clay                     1           0   \n",
       "1      209  Feed  clay                     1           0   \n",
       "2      257  Feed  clay                     1           0   \n",
       "3      257  Feed  silt                     1           0   \n",
       "4      342  Feed  clay                     1           0   \n",
       "\n",
       "   Number_of_Weeks_Used  Number_Weeks_does_not used  Season  Crop_status  \n",
       "0                   0.0                           0       1            0  \n",
       "1                   0.0                           0       2            1  \n",
       "2                   0.0                           0       2            1  \n",
       "3                   0.0                           0       2            1  \n",
       "4                   0.0                           0       2            1  "
      ]
     },
     "execution_count": 21,
     "metadata": {},
     "output_type": "execute_result"
    }
   ],
   "source": [
    "#removing id column\n",
    "data.drop('ID',axis = 1,inplace = True)\n",
    "data.head()"
   ]
  },
  {
   "cell_type": "markdown",
   "metadata": {},
   "source": [
    "## OUTLIER HANDLING"
   ]
  },
  {
   "cell_type": "code",
   "execution_count": 31,
   "metadata": {},
   "outputs": [],
   "source": [
    "numerical_features = [feature for feature in data.columns if data[feature].dtype != \"O\"]\n",
    "descrete_features = [feature for feature in numerical_features if len(data[feature].unique())<25]\n",
    "continuous_features = [feature for feature in numerical_features if feature not in descrete_features]"
   ]
  },
  {
   "cell_type": "code",
   "execution_count": 80,
   "metadata": {},
   "outputs": [
    {
     "data": {
      "text/plain": [
       "['Insects', 'Number_of_Weeks_Used', 'Number_Weeks_does_not used']"
      ]
     },
     "execution_count": 80,
     "metadata": {},
     "output_type": "execute_result"
    }
   ],
   "source": [
    "continuous_features"
   ]
  },
  {
   "cell_type": "code",
   "execution_count": 81,
   "metadata": {},
   "outputs": [
    {
     "data": {
      "image/png": "[encoded data removed]",
      "text/plain": [
       "<Figure size 1080x1080 with 3 Axes>"
      ]
     },
     "metadata": {
      "needs_background": "light"
     },
     "output_type": "display_data"
    }
   ],
   "source": [
    "#let us plot outliers in continuous cols:\n",
    "plt.figure(figsize=(15, 15))\n",
    "\n",
    "for i,col in enumerate(continuous_features, 1):\n",
    "    plt.subplot(2,2,i)\n",
    "    sns.boxplot(x=data[col])"
   ]
  },
  {
   "cell_type": "code",
   "execution_count": 34,
   "metadata": {},
   "outputs": [],
   "source": [
    "for i in continuous_features:\n",
    "    q1 = data[i].quantile(0.25)\n",
    "    q3 = data[i].quantile(0.75)\n",
    "    iqr = q3-q1\n",
    "    lowbound = q1-(1.5*iqr)\n",
    "    highbound = q3+(1.5*iqr)\n",
    "    data.loc[(data[i]<lowbound) | (data[i]>highbound),i] = data[i].median()"
   ]
  },
  {
   "cell_type": "code",
   "execution_count": 82,
   "metadata": {},
   "outputs": [
    {
     "data": {
      "image/png": "[encoded data removed]",
      "text/plain": [
       "<Figure size 1080x1080 with 3 Axes>"
      ]
     },
     "metadata": {
      "needs_background": "light"
     },
     "output_type": "display_data"
    }
   ],
   "source": [
    "#let us plot outliers in continuous cols:\n",
    "plt.figure(figsize=(15, 15))\n",
    "\n",
    "for i,col in enumerate(continuous_features, 1):\n",
    "    plt.subplot(2,2,i)\n",
    "    sns.boxplot(x=data[col])"
   ]
  },
  {
   "cell_type": "code",
   "execution_count": 35,
   "metadata": {},
   "outputs": [
    {
     "data": {
      "text/plain": [
       "Category_of_Toxicant              0\n",
       "Crop                              0\n",
       "Crop_status                   13284\n",
       "Does_count                      714\n",
       "Insects                           0\n",
       "Number_Weeks_does_not used        0\n",
       "Number_of_Weeks_Used              0\n",
       "Season                            0\n",
       "Soil                              0\n",
       "dtype: int64"
      ]
     },
     "execution_count": 35,
     "metadata": {},
     "output_type": "execute_result"
    }
   ],
   "source": [
    "# counting outliers....\n",
    "df = data.copy()\n",
    "Q1 = df.quantile(0.25)\n",
    "Q3 = df.quantile(0.75)\n",
    "IQR = Q3 - Q1\n",
    "\n",
    "((df < (Q1 - 1.5 * IQR)) | (df > (Q3 + 1.5 * IQR))).sum()"
   ]
  },
  {
   "cell_type": "markdown",
   "metadata": {},
   "source": [
    "## Changing object datatype into labels:"
   ]
  },
  {
   "cell_type": "code",
   "execution_count": 36,
   "metadata": {},
   "outputs": [
    {
     "data": {
      "text/plain": [
       "Insects                          0\n",
       "Crop                             0\n",
       "Soil                             0\n",
       "Category_of_Toxicant             0\n",
       "Does_count                       0\n",
       "Number_of_Weeks_Used          8055\n",
       "Number_Weeks_does_not used       0\n",
       "Season                           0\n",
       "Crop_status                      0\n",
       "dtype: int64"
      ]
     },
     "execution_count": 36,
     "metadata": {},
     "output_type": "execute_result"
    }
   ],
   "source": [
    "data.isna().sum()"
   ]
  },
  {
   "cell_type": "code",
   "execution_count": 37,
   "metadata": {},
   "outputs": [
    {
     "data": {
      "text/html": [
       "<div>\n",
       "<style scoped>\n",
       "    .dataframe tbody tr th:only-of-type {\n",
       "        vertical-align: middle;\n",
       "    }\n",
       "\n",
       "    .dataframe tbody tr th {\n",
       "        vertical-align: top;\n",
       "    }\n",
       "\n",
       "    .dataframe thead th {\n",
       "        text-align: right;\n",
       "    }\n",
       "</style>\n",
       "<table border=\"1\" class=\"dataframe\">\n",
       "  <thead>\n",
       "    <tr style=\"text-align: right;\">\n",
       "      <th></th>\n",
       "      <th>Insects</th>\n",
       "      <th>Crop</th>\n",
       "      <th>Soil</th>\n",
       "      <th>Category_of_Toxicant</th>\n",
       "      <th>Does_count</th>\n",
       "      <th>Number_of_Weeks_Used</th>\n",
       "      <th>Number_Weeks_does_not used</th>\n",
       "      <th>Season</th>\n",
       "      <th>Crop_status</th>\n",
       "    </tr>\n",
       "  </thead>\n",
       "  <tbody>\n",
       "    <tr>\n",
       "      <th>0</th>\n",
       "      <td>188.0</td>\n",
       "      <td>Feed</td>\n",
       "      <td>clay</td>\n",
       "      <td>1</td>\n",
       "      <td>0</td>\n",
       "      <td>0.0</td>\n",
       "      <td>0.0</td>\n",
       "      <td>1</td>\n",
       "      <td>0</td>\n",
       "    </tr>\n",
       "    <tr>\n",
       "      <th>1</th>\n",
       "      <td>209.0</td>\n",
       "      <td>Feed</td>\n",
       "      <td>clay</td>\n",
       "      <td>1</td>\n",
       "      <td>0</td>\n",
       "      <td>0.0</td>\n",
       "      <td>0.0</td>\n",
       "      <td>2</td>\n",
       "      <td>1</td>\n",
       "    </tr>\n",
       "    <tr>\n",
       "      <th>2</th>\n",
       "      <td>257.0</td>\n",
       "      <td>Feed</td>\n",
       "      <td>clay</td>\n",
       "      <td>1</td>\n",
       "      <td>0</td>\n",
       "      <td>0.0</td>\n",
       "      <td>0.0</td>\n",
       "      <td>2</td>\n",
       "      <td>1</td>\n",
       "    </tr>\n",
       "    <tr>\n",
       "      <th>3</th>\n",
       "      <td>257.0</td>\n",
       "      <td>Feed</td>\n",
       "      <td>silt</td>\n",
       "      <td>1</td>\n",
       "      <td>0</td>\n",
       "      <td>0.0</td>\n",
       "      <td>0.0</td>\n",
       "      <td>2</td>\n",
       "      <td>1</td>\n",
       "    </tr>\n",
       "    <tr>\n",
       "      <th>4</th>\n",
       "      <td>342.0</td>\n",
       "      <td>Feed</td>\n",
       "      <td>clay</td>\n",
       "      <td>1</td>\n",
       "      <td>0</td>\n",
       "      <td>0.0</td>\n",
       "      <td>0.0</td>\n",
       "      <td>2</td>\n",
       "      <td>1</td>\n",
       "    </tr>\n",
       "  </tbody>\n",
       "</table>\n",
       "</div>"
      ],
      "text/plain": [
       "   Insects  Crop  Soil  Category_of_Toxicant  Does_count  \\\n",
       "0    188.0  Feed  clay                     1           0   \n",
       "1    209.0  Feed  clay                     1           0   \n",
       "2    257.0  Feed  clay                     1           0   \n",
       "3    257.0  Feed  silt                     1           0   \n",
       "4    342.0  Feed  clay                     1           0   \n",
       "\n",
       "   Number_of_Weeks_Used  Number_Weeks_does_not used  Season  Crop_status  \n",
       "0                   0.0                         0.0       1            0  \n",
       "1                   0.0                         0.0       2            1  \n",
       "2                   0.0                         0.0       2            1  \n",
       "3                   0.0                         0.0       2            1  \n",
       "4                   0.0                         0.0       2            1  "
      ]
     },
     "execution_count": 37,
     "metadata": {},
     "output_type": "execute_result"
    }
   ],
   "source": [
    "data.head()"
   ]
  },
  {
   "cell_type": "code",
   "execution_count": 38,
   "metadata": {},
   "outputs": [
    {
     "name": "stdout",
     "output_type": "stream",
     "text": [
      "<class 'pandas.core.frame.DataFrame'>\n",
      "RangeIndex: 80000 entries, 0 to 79999\n",
      "Data columns (total 9 columns):\n",
      " #   Column                      Non-Null Count  Dtype  \n",
      "---  ------                      --------------  -----  \n",
      " 0   Insects                     80000 non-null  float64\n",
      " 1   Crop                        80000 non-null  int64  \n",
      " 2   Soil                        80000 non-null  int64  \n",
      " 3   Category_of_Toxicant        80000 non-null  int64  \n",
      " 4   Does_count                  80000 non-null  int64  \n",
      " 5   Number_of_Weeks_Used        71945 non-null  float64\n",
      " 6   Number_Weeks_does_not used  80000 non-null  float64\n",
      " 7   Season                      80000 non-null  int64  \n",
      " 8   Crop_status                 80000 non-null  int64  \n",
      "dtypes: float64(3), int64(6)\n",
      "memory usage: 5.5 MB\n"
     ]
    }
   ],
   "source": [
    "data['Crop'].replace(['Feed','Food'],[0,1], inplace=True)\n",
    "data['Soil'].replace(['clay','silt'],[0,1], inplace=True)\n",
    "data.info()"
   ]
  },
  {
   "cell_type": "markdown",
   "metadata": {},
   "source": [
    "## HANDLING NULL VALUES"
   ]
  },
  {
   "cell_type": "code",
   "execution_count": 39,
   "metadata": {},
   "outputs": [
    {
     "data": {
      "text/plain": [
       "Insects                          0\n",
       "Crop                             0\n",
       "Soil                             0\n",
       "Category_of_Toxicant             0\n",
       "Does_count                       0\n",
       "Number_of_Weeks_Used          8055\n",
       "Number_Weeks_does_not used       0\n",
       "Season                           0\n",
       "Crop_status                      0\n",
       "dtype: int64"
      ]
     },
     "execution_count": 39,
     "metadata": {},
     "output_type": "execute_result"
    }
   ],
   "source": [
    "data.isna().sum()"
   ]
  },
  {
   "cell_type": "code",
   "execution_count": 40,
   "metadata": {},
   "outputs": [],
   "source": [
    "data.Number_of_Weeks_Used=data.Number_of_Weeks_Used.fillna(data.Number_of_Weeks_Used.mean())"
   ]
  },
  {
   "cell_type": "code",
   "execution_count": 41,
   "metadata": {},
   "outputs": [
    {
     "data": {
      "text/plain": [
       "Insects                       0\n",
       "Crop                          0\n",
       "Soil                          0\n",
       "Category_of_Toxicant          0\n",
       "Does_count                    0\n",
       "Number_of_Weeks_Used          0\n",
       "Number_Weeks_does_not used    0\n",
       "Season                        0\n",
       "Crop_status                   0\n",
       "dtype: int64"
      ]
     },
     "execution_count": 41,
     "metadata": {},
     "output_type": "execute_result"
    }
   ],
   "source": [
    "data.isna().sum()"
   ]
  },
  {
   "cell_type": "markdown",
   "metadata": {},
   "source": [
    "# Handling imbalanced data n  TEST TRAIN SPLIT"
   ]
  },
  {
   "cell_type": "code",
   "execution_count": 42,
   "metadata": {},
   "outputs": [
    {
     "data": {
      "text/plain": [
       "0        0\n",
       "1        1\n",
       "2        1\n",
       "3        1\n",
       "4        1\n",
       "        ..\n",
       "79995    0\n",
       "79996    0\n",
       "79997    0\n",
       "79998    0\n",
       "79999    0\n",
       "Name: Crop_status, Length: 80000, dtype: int64"
      ]
     },
     "execution_count": 42,
     "metadata": {},
     "output_type": "execute_result"
    }
   ],
   "source": [
    "dataY = data.iloc[:,-1]\n",
    "dataY"
   ]
  },
  {
   "cell_type": "code",
   "execution_count": 43,
   "metadata": {},
   "outputs": [],
   "source": [
    "data.drop('Crop_status',axis = 1,inplace = True)"
   ]
  },
  {
   "cell_type": "code",
   "execution_count": 44,
   "metadata": {},
   "outputs": [
    {
     "data": {
      "text/html": [
       "<div>\n",
       "<style scoped>\n",
       "    .dataframe tbody tr th:only-of-type {\n",
       "        vertical-align: middle;\n",
       "    }\n",
       "\n",
       "    .dataframe tbody tr th {\n",
       "        vertical-align: top;\n",
       "    }\n",
       "\n",
       "    .dataframe thead th {\n",
       "        text-align: right;\n",
       "    }\n",
       "</style>\n",
       "<table border=\"1\" class=\"dataframe\">\n",
       "  <thead>\n",
       "    <tr style=\"text-align: right;\">\n",
       "      <th></th>\n",
       "      <th>Insects</th>\n",
       "      <th>Crop</th>\n",
       "      <th>Soil</th>\n",
       "      <th>Category_of_Toxicant</th>\n",
       "      <th>Does_count</th>\n",
       "      <th>Number_of_Weeks_Used</th>\n",
       "      <th>Number_Weeks_does_not used</th>\n",
       "      <th>Season</th>\n",
       "    </tr>\n",
       "  </thead>\n",
       "  <tbody>\n",
       "    <tr>\n",
       "      <th>0</th>\n",
       "      <td>188.0</td>\n",
       "      <td>0</td>\n",
       "      <td>0</td>\n",
       "      <td>1</td>\n",
       "      <td>0</td>\n",
       "      <td>0.0</td>\n",
       "      <td>0.0</td>\n",
       "      <td>1</td>\n",
       "    </tr>\n",
       "    <tr>\n",
       "      <th>1</th>\n",
       "      <td>209.0</td>\n",
       "      <td>0</td>\n",
       "      <td>0</td>\n",
       "      <td>1</td>\n",
       "      <td>0</td>\n",
       "      <td>0.0</td>\n",
       "      <td>0.0</td>\n",
       "      <td>2</td>\n",
       "    </tr>\n",
       "    <tr>\n",
       "      <th>2</th>\n",
       "      <td>257.0</td>\n",
       "      <td>0</td>\n",
       "      <td>0</td>\n",
       "      <td>1</td>\n",
       "      <td>0</td>\n",
       "      <td>0.0</td>\n",
       "      <td>0.0</td>\n",
       "      <td>2</td>\n",
       "    </tr>\n",
       "    <tr>\n",
       "      <th>3</th>\n",
       "      <td>257.0</td>\n",
       "      <td>0</td>\n",
       "      <td>1</td>\n",
       "      <td>1</td>\n",
       "      <td>0</td>\n",
       "      <td>0.0</td>\n",
       "      <td>0.0</td>\n",
       "      <td>2</td>\n",
       "    </tr>\n",
       "    <tr>\n",
       "      <th>4</th>\n",
       "      <td>342.0</td>\n",
       "      <td>0</td>\n",
       "      <td>0</td>\n",
       "      <td>1</td>\n",
       "      <td>0</td>\n",
       "      <td>0.0</td>\n",
       "      <td>0.0</td>\n",
       "      <td>2</td>\n",
       "    </tr>\n",
       "    <tr>\n",
       "      <th>...</th>\n",
       "      <td>...</td>\n",
       "      <td>...</td>\n",
       "      <td>...</td>\n",
       "      <td>...</td>\n",
       "      <td>...</td>\n",
       "      <td>...</td>\n",
       "      <td>...</td>\n",
       "      <td>...</td>\n",
       "    </tr>\n",
       "    <tr>\n",
       "      <th>79995</th>\n",
       "      <td>209.0</td>\n",
       "      <td>1</td>\n",
       "      <td>1</td>\n",
       "      <td>2</td>\n",
       "      <td>20</td>\n",
       "      <td>12.0</td>\n",
       "      <td>6.0</td>\n",
       "      <td>2</td>\n",
       "    </tr>\n",
       "    <tr>\n",
       "      <th>79996</th>\n",
       "      <td>232.0</td>\n",
       "      <td>1</td>\n",
       "      <td>1</td>\n",
       "      <td>2</td>\n",
       "      <td>20</td>\n",
       "      <td>12.0</td>\n",
       "      <td>9.0</td>\n",
       "      <td>1</td>\n",
       "    </tr>\n",
       "    <tr>\n",
       "      <th>79997</th>\n",
       "      <td>256.0</td>\n",
       "      <td>1</td>\n",
       "      <td>1</td>\n",
       "      <td>2</td>\n",
       "      <td>10</td>\n",
       "      <td>14.0</td>\n",
       "      <td>10.0</td>\n",
       "      <td>1</td>\n",
       "    </tr>\n",
       "    <tr>\n",
       "      <th>79998</th>\n",
       "      <td>256.0</td>\n",
       "      <td>1</td>\n",
       "      <td>1</td>\n",
       "      <td>2</td>\n",
       "      <td>10</td>\n",
       "      <td>16.0</td>\n",
       "      <td>8.0</td>\n",
       "      <td>2</td>\n",
       "    </tr>\n",
       "    <tr>\n",
       "      <th>79999</th>\n",
       "      <td>256.0</td>\n",
       "      <td>1</td>\n",
       "      <td>1</td>\n",
       "      <td>2</td>\n",
       "      <td>20</td>\n",
       "      <td>11.0</td>\n",
       "      <td>10.0</td>\n",
       "      <td>2</td>\n",
       "    </tr>\n",
       "  </tbody>\n",
       "</table>\n",
       "<p>80000 rows × 8 columns</p>\n",
       "</div>"
      ],
      "text/plain": [
       "       Insects  Crop  Soil  Category_of_Toxicant  Does_count  \\\n",
       "0        188.0     0     0                     1           0   \n",
       "1        209.0     0     0                     1           0   \n",
       "2        257.0     0     0                     1           0   \n",
       "3        257.0     0     1                     1           0   \n",
       "4        342.0     0     0                     1           0   \n",
       "...        ...   ...   ...                   ...         ...   \n",
       "79995    209.0     1     1                     2          20   \n",
       "79996    232.0     1     1                     2          20   \n",
       "79997    256.0     1     1                     2          10   \n",
       "79998    256.0     1     1                     2          10   \n",
       "79999    256.0     1     1                     2          20   \n",
       "\n",
       "       Number_of_Weeks_Used  Number_Weeks_does_not used  Season  \n",
       "0                       0.0                         0.0       1  \n",
       "1                       0.0                         0.0       2  \n",
       "2                       0.0                         0.0       2  \n",
       "3                       0.0                         0.0       2  \n",
       "4                       0.0                         0.0       2  \n",
       "...                     ...                         ...     ...  \n",
       "79995                  12.0                         6.0       2  \n",
       "79996                  12.0                         9.0       1  \n",
       "79997                  14.0                        10.0       1  \n",
       "79998                  16.0                         8.0       2  \n",
       "79999                  11.0                        10.0       2  \n",
       "\n",
       "[80000 rows x 8 columns]"
      ]
     },
     "execution_count": 44,
     "metadata": {},
     "output_type": "execute_result"
    }
   ],
   "source": [
    "dataX = data.iloc[:,:]\n",
    "dataX"
   ]
  },
  {
   "cell_type": "code",
   "execution_count": 45,
   "metadata": {},
   "outputs": [],
   "source": [
    "#test-train-split\n",
    "from sklearn.model_selection import train_test_split\n",
    "X_train, X_test, y_train, y_test = train_test_split(dataX, dataY, test_size=0.20, random_state=42)"
   ]
  },
  {
   "cell_type": "code",
   "execution_count": 46,
   "metadata": {},
   "outputs": [
    {
     "data": {
      "text/plain": [
       "0    0.83395\n",
       "Name: Crop_status, dtype: float64"
      ]
     },
     "execution_count": 46,
     "metadata": {},
     "output_type": "execute_result"
    }
   ],
   "source": [
    "#null accuracy\n",
    "dataY.value_counts().head(1) / len(dataY)"
   ]
  },
  {
   "cell_type": "code",
   "execution_count": 47,
   "metadata": {},
   "outputs": [
    {
     "data": {
      "text/plain": [
       "(80000, 8)"
      ]
     },
     "execution_count": 47,
     "metadata": {},
     "output_type": "execute_result"
    }
   ],
   "source": [
    "dataX.shape"
   ]
  },
  {
   "cell_type": "code",
   "execution_count": 48,
   "metadata": {},
   "outputs": [
    {
     "data": {
      "text/plain": [
       "(80000,)"
      ]
     },
     "execution_count": 48,
     "metadata": {},
     "output_type": "execute_result"
    }
   ],
   "source": [
    "dataY.shape"
   ]
  },
  {
   "cell_type": "code",
   "execution_count": 49,
   "metadata": {},
   "outputs": [],
   "source": [
    "#handling imbalance using SMOTE\n",
    "from imblearn.over_sampling import SMOTE\n",
    "from imblearn.combine import SMOTETomek\n",
    "strategy = {0:66716, 1:33358, 2:33358}\n",
    "#smt= SMOTETomek(random_state=42)\n",
    "sm = SMOTE(sampling_strategy=strategy)\n",
    "dataX, dataY = sm.fit_resample(dataX, dataY)"
   ]
  },
  {
   "cell_type": "code",
   "execution_count": 50,
   "metadata": {},
   "outputs": [
    {
     "data": {
      "text/plain": [
       "0    66716\n",
       "2    33358\n",
       "1    33358\n",
       "Name: Crop_status, dtype: int64"
      ]
     },
     "execution_count": 50,
     "metadata": {},
     "output_type": "execute_result"
    }
   ],
   "source": [
    "dataY.value_counts()"
   ]
  },
  {
   "cell_type": "markdown",
   "metadata": {},
   "source": [
    "## SCALING"
   ]
  },
  {
   "cell_type": "code",
   "execution_count": 51,
   "metadata": {},
   "outputs": [],
   "source": [
    "from sklearn.preprocessing import StandardScaler\n",
    "sc=StandardScaler()\n",
    "\n",
    "X_train=sc.fit_transform(X_train)\n",
    "X_train=pd.DataFrame(X_train,columns=X_test.columns)\n",
    "\n",
    "X_test=sc.transform(X_test)\n",
    "X_test=pd.DataFrame(X_test,columns=X_train.columns)"
   ]
  },
  {
   "cell_type": "code",
   "execution_count": 52,
   "metadata": {},
   "outputs": [
    {
     "data": {
      "text/html": [
       "<div>\n",
       "<style scoped>\n",
       "    .dataframe tbody tr th:only-of-type {\n",
       "        vertical-align: middle;\n",
       "    }\n",
       "\n",
       "    .dataframe tbody tr th {\n",
       "        vertical-align: top;\n",
       "    }\n",
       "\n",
       "    .dataframe thead th {\n",
       "        text-align: right;\n",
       "    }\n",
       "</style>\n",
       "<table border=\"1\" class=\"dataframe\">\n",
       "  <thead>\n",
       "    <tr style=\"text-align: right;\">\n",
       "      <th></th>\n",
       "      <th>Insects</th>\n",
       "      <th>Crop</th>\n",
       "      <th>Soil</th>\n",
       "      <th>Category_of_Toxicant</th>\n",
       "      <th>Does_count</th>\n",
       "      <th>Number_of_Weeks_Used</th>\n",
       "      <th>Number_Weeks_does_not used</th>\n",
       "      <th>Season</th>\n",
       "    </tr>\n",
       "  </thead>\n",
       "  <tbody>\n",
       "    <tr>\n",
       "      <th>0</th>\n",
       "      <td>1.324315</td>\n",
       "      <td>0.627478</td>\n",
       "      <td>-0.917774</td>\n",
       "      <td>-0.574881</td>\n",
       "      <td>-0.376614</td>\n",
       "      <td>0.719764</td>\n",
       "      <td>0.782045</td>\n",
       "      <td>0.148693</td>\n",
       "    </tr>\n",
       "    <tr>\n",
       "      <th>1</th>\n",
       "      <td>2.292936</td>\n",
       "      <td>-1.593682</td>\n",
       "      <td>1.089592</td>\n",
       "      <td>-2.730390</td>\n",
       "      <td>-1.661796</td>\n",
       "      <td>-2.444106</td>\n",
       "      <td>-0.972736</td>\n",
       "      <td>0.148693</td>\n",
       "    </tr>\n",
       "    <tr>\n",
       "      <th>2</th>\n",
       "      <td>-0.560880</td>\n",
       "      <td>-1.593682</td>\n",
       "      <td>-0.917774</td>\n",
       "      <td>-0.574881</td>\n",
       "      <td>-0.376614</td>\n",
       "      <td>0.000913</td>\n",
       "      <td>0.885268</td>\n",
       "      <td>-1.275914</td>\n",
       "    </tr>\n",
       "    <tr>\n",
       "      <th>3</th>\n",
       "      <td>-0.795736</td>\n",
       "      <td>0.627478</td>\n",
       "      <td>-0.917774</td>\n",
       "      <td>1.580628</td>\n",
       "      <td>-0.376614</td>\n",
       "      <td>-2.016556</td>\n",
       "      <td>-0.972736</td>\n",
       "      <td>0.148693</td>\n",
       "    </tr>\n",
       "    <tr>\n",
       "      <th>4</th>\n",
       "      <td>0.406473</td>\n",
       "      <td>0.627478</td>\n",
       "      <td>-0.917774</td>\n",
       "      <td>1.580628</td>\n",
       "      <td>2.193751</td>\n",
       "      <td>1.660374</td>\n",
       "      <td>-0.972736</td>\n",
       "      <td>0.148693</td>\n",
       "    </tr>\n",
       "  </tbody>\n",
       "</table>\n",
       "</div>"
      ],
      "text/plain": [
       "    Insects      Crop      Soil  Category_of_Toxicant  Does_count  \\\n",
       "0  1.324315  0.627478 -0.917774             -0.574881   -0.376614   \n",
       "1  2.292936 -1.593682  1.089592             -2.730390   -1.661796   \n",
       "2 -0.560880 -1.593682 -0.917774             -0.574881   -0.376614   \n",
       "3 -0.795736  0.627478 -0.917774              1.580628   -0.376614   \n",
       "4  0.406473  0.627478 -0.917774              1.580628    2.193751   \n",
       "\n",
       "   Number_of_Weeks_Used  Number_Weeks_does_not used    Season  \n",
       "0              0.719764                    0.782045  0.148693  \n",
       "1             -2.444106                   -0.972736  0.148693  \n",
       "2              0.000913                    0.885268 -1.275914  \n",
       "3             -2.016556                   -0.972736  0.148693  \n",
       "4              1.660374                   -0.972736  0.148693  "
      ]
     },
     "execution_count": 52,
     "metadata": {},
     "output_type": "execute_result"
    }
   ],
   "source": [
    "X_train.head()"
   ]
  },
  {
   "cell_type": "markdown",
   "metadata": {},
   "source": [
    "## PREDICTING & SCORING FUNCTION"
   ]
  },
  {
   "cell_type": "code",
   "execution_count": 53,
   "metadata": {},
   "outputs": [],
   "source": [
    "from sklearn.linear_model import LogisticRegression\n",
    "from sklearn.tree import DecisionTreeClassifier\n",
    "from sklearn.ensemble import RandomForestClassifier\n",
    "from sklearn.neighbors import KNeighborsClassifier\n",
    "from sklearn.metrics import confusion_matrix, classification_report, accuracy_score, roc_auc_score"
   ]
  },
  {
   "cell_type": "code",
   "execution_count": 54,
   "metadata": {},
   "outputs": [],
   "source": [
    "results_df = []"
   ]
  },
  {
   "cell_type": "code",
   "execution_count": 55,
   "metadata": {},
   "outputs": [
    {
     "data": {
      "text/plain": [
       "<Figure size 1080x1080 with 0 Axes>"
      ]
     },
     "metadata": {},
     "output_type": "display_data"
    }
   ],
   "source": [
    "\n",
    "plt.figure(figsize=(15, 15))\n",
    "count = 0\n",
    "train_score = 0\n",
    "test_score = 0\n",
    "def scores(clf, X_train, y_train, X_test, y_test):\n",
    "    count = 1\n",
    "    pred = clf.predict(X_train)\n",
    "    clf_report = pd.DataFrame(classification_report(y_train, pred, output_dict=True))\n",
    "    train_score = accuracy_score(y_train, pred) * 100\n",
    "    print(\"Train Result:\\n================================================\")\n",
    "    print(f\"Training Accuracy Score: {accuracy_score(y_train, pred) * 100:.2f}%\")\n",
    "    print(\"_______________________________________________\")\n",
    "    print(f\"CLASSIFICATION REPORT:\\n{clf_report}\")\n",
    "    print(\"_______________________________________________\")\n",
    "    print(f\"Confusion Matrix: \\n {confusion_matrix(y_train, pred)}\\n\")\n",
    "    plt.subplot(2,2,count)\n",
    "    plt.title('Training Confusion matrix')\n",
    "    conf_matrix = confusion_matrix(y_train,pred)\n",
    "    sns.heatmap(conf_matrix, annot=True, fmt=\".2f\")\n",
    "    count = 2\n",
    "    pred = clf.predict(X_test)\n",
    "    clf_report = pd.DataFrame(classification_report(y_test, pred, output_dict=True))\n",
    "    test_score = accuracy_score(y_test, pred) * 100\n",
    "    #roc_auc = roc_auc_score(y_test, pred, multi_class='ovr')\n",
    "    print(\"Test Result:\\n================================================\")        \n",
    "    print(f\"Testing Accuracy Score: {accuracy_score(y_test, pred) * 100:.2f}%\")\n",
    "    print(\"_______________________________________________\")\n",
    "    print(f\"CLASSIFICATION REPORT:\\n{clf_report}\")\n",
    "    print(\"_______________________________________________\")\n",
    "    print(f\"Confusion Matrix: \\n {confusion_matrix(y_test, pred)}\\n\")\n",
    "    plt.subplot(2,2,count)\n",
    "    plt.title('Testing Confusion matrix')\n",
    "    conftest_matrix = confusion_matrix(y_test,pred)\n",
    "    sns.heatmap(conftest_matrix, annot=True, fmt=\".2f\")\n",
    "    \n",
    "    #results_df.append([clf,train_score,test_score,roc_auc])\n",
    "    results_df.append([clf,train_score,test_score])"
   ]
  },
  {
   "cell_type": "markdown",
   "metadata": {},
   "source": [
    "## IMPLEMENTING MODELS"
   ]
  },
  {
   "cell_type": "code",
   "execution_count": 56,
   "metadata": {},
   "outputs": [
    {
     "name": "stderr",
     "output_type": "stream",
     "text": [
      "/Users/priya/opt/anaconda3/lib/python3.8/site-packages/sklearn/metrics/_classification.py:1221: UndefinedMetricWarning: Precision and F-score are ill-defined and being set to 0.0 in labels with no predicted samples. Use `zero_division` parameter to control this behavior.\n",
      "  _warn_prf(average, modifier, msg_start, len(result))\n"
     ]
    },
    {
     "name": "stdout",
     "output_type": "stream",
     "text": [
      "Train Result:\n",
      "================================================\n",
      "Training Accuracy Score: 83.28%\n",
      "_______________________________________________\n",
      "CLASSIFICATION REPORT:\n",
      "                      0            1       2  accuracy     macro avg  \\\n",
      "precision      0.838353     0.422353     0.0  0.832828      0.420235   \n",
      "recall         0.992352     0.040080     0.0  0.832828      0.344144   \n",
      "f1-score       0.908876     0.073213     0.0  0.832828      0.327363   \n",
      "support    53350.000000  8957.000000  1693.0  0.832828  64000.000000   \n",
      "\n",
      "           weighted avg  \n",
      "precision      0.757956  \n",
      "recall         0.832828  \n",
      "f1-score       0.767879  \n",
      "support    64000.000000  \n",
      "_______________________________________________\n",
      "Confusion Matrix: \n",
      " [[52942   408     0]\n",
      " [ 8598   359     0]\n",
      " [ 1610    83     0]]\n",
      "\n"
     ]
    },
    {
     "name": "stderr",
     "output_type": "stream",
     "text": [
      "/Users/priya/opt/anaconda3/lib/python3.8/site-packages/sklearn/metrics/_classification.py:1221: UndefinedMetricWarning: Precision and F-score are ill-defined and being set to 0.0 in labels with no predicted samples. Use `zero_division` parameter to control this behavior.\n",
      "  _warn_prf(average, modifier, msg_start, len(result))\n"
     ]
    },
    {
     "name": "stdout",
     "output_type": "stream",
     "text": [
      "Test Result:\n",
      "================================================\n",
      "Testing Accuracy Score: 83.48%\n",
      "_______________________________________________\n",
      "CLASSIFICATION REPORT:\n",
      "                      0            1      2  accuracy     macro avg  \\\n",
      "precision      0.840614     0.431718    0.0  0.834812      0.424111   \n",
      "recall         0.991995     0.044025    0.0  0.834812      0.345340   \n",
      "f1-score       0.910052     0.079902    0.0  0.834812      0.329985   \n",
      "support    13366.000000  2226.000000  408.0  0.834812  16000.000000   \n",
      "\n",
      "           weighted avg  \n",
      "precision      0.762290  \n",
      "recall         0.834812  \n",
      "f1-score       0.771351  \n",
      "support    16000.000000  \n",
      "_______________________________________________\n",
      "Confusion Matrix: \n",
      " [[13259   107     0]\n",
      " [ 2128    98     0]\n",
      " [  386    22     0]]\n",
      "\n"
     ]
    },
    {
     "data": {
      "image/png": "[encoded data removed]",
      "text/plain": [
       "<Figure size 432x288 with 4 Axes>"
      ]
     },
     "metadata": {
      "needs_background": "light"
     },
     "output_type": "display_data"
    }
   ],
   "source": [
    "#Logistic Regression\n",
    "\n",
    "lr = LogisticRegression()\n",
    "lr.fit(X_train,y_train)\n",
    "scores(lr, X_train, y_train, X_test, y_test)"
   ]
  },
  {
   "cell_type": "code",
   "execution_count": 57,
   "metadata": {},
   "outputs": [
    {
     "name": "stdout",
     "output_type": "stream",
     "text": [
      "Train Result:\n",
      "================================================\n",
      "Training Accuracy Score: 98.40%\n",
      "_______________________________________________\n",
      "CLASSIFICATION REPORT:\n",
      "                      0            1            2  accuracy     macro avg  \\\n",
      "precision      0.985465     0.974317     0.987831  0.984031      0.982538   \n",
      "recall         0.998875     0.927543     0.815121  0.984031      0.913846   \n",
      "f1-score       0.992125     0.950355     0.893204  0.984031      0.945228   \n",
      "support    53350.000000  8957.000000  1693.000000  0.984031  64000.000000   \n",
      "\n",
      "           weighted avg  \n",
      "precision      0.983967  \n",
      "recall         0.984031  \n",
      "f1-score       0.983662  \n",
      "support    64000.000000  \n",
      "_______________________________________________\n",
      "Confusion Matrix: \n",
      " [[53290    55     5]\n",
      " [  637  8308    12]\n",
      " [  149   164  1380]]\n",
      "\n",
      "Test Result:\n",
      "================================================\n",
      "Testing Accuracy Score: 74.45%\n",
      "_______________________________________________\n",
      "CLASSIFICATION REPORT:\n",
      "                      0            1           2  accuracy     macro avg  \\\n",
      "precision      0.865084     0.235008    0.072034    0.7445      0.390709   \n",
      "recall         0.845279     0.260557    0.083333    0.7445      0.396390   \n",
      "f1-score       0.855067     0.247124    0.077273    0.7445      0.393155   \n",
      "support    13366.000000  2226.000000  408.000000    0.7445  16000.000000   \n",
      "\n",
      "           weighted avg  \n",
      "precision      0.757202  \n",
      "recall         0.744500  \n",
      "f1-score       0.750653  \n",
      "support    16000.000000  \n",
      "_______________________________________________\n",
      "Confusion Matrix: \n",
      " [[11298  1747   321]\n",
      " [ 1529   580   117]\n",
      " [  233   141    34]]\n",
      "\n"
     ]
    },
    {
     "data": {
      "image/png": "[encoded data removed]",
      "text/plain": [
       "<Figure size 432x288 with 4 Axes>"
      ]
     },
     "metadata": {
      "needs_background": "light"
     },
     "output_type": "display_data"
    }
   ],
   "source": [
    "#decision tree\n",
    "dr = DecisionTreeClassifier()\n",
    "dr.fit(X_train,y_train)\n",
    "scores(dr, X_train, y_train, X_test, y_test)"
   ]
  },
  {
   "cell_type": "code",
   "execution_count": 58,
   "metadata": {},
   "outputs": [
    {
     "name": "stdout",
     "output_type": "stream",
     "text": [
      "Train Result:\n",
      "================================================\n",
      "Training Accuracy Score: 98.40%\n",
      "_______________________________________________\n",
      "CLASSIFICATION REPORT:\n",
      "                      0            1            2  accuracy     macro avg  \\\n",
      "precision      0.989612     0.957437     0.939806  0.983969      0.962285   \n",
      "recall         0.994639     0.944289     0.857649  0.983969      0.932193   \n",
      "f1-score       0.992119     0.950818     0.896850  0.983969      0.946596   \n",
      "support    53350.000000  8957.000000  1693.000000  0.983969  64000.000000   \n",
      "\n",
      "           weighted avg  \n",
      "precision      0.983792  \n",
      "recall         0.983969  \n",
      "f1-score       0.983819  \n",
      "support    64000.000000  \n",
      "_______________________________________________\n",
      "Confusion Matrix: \n",
      " [[53064   247    39]\n",
      " [  445  8458    54]\n",
      " [  112   129  1452]]\n",
      "\n",
      "Test Result:\n",
      "================================================\n",
      "Testing Accuracy Score: 81.73%\n",
      "_______________________________________________\n",
      "CLASSIFICATION REPORT:\n",
      "                      0            1           2  accuracy     macro avg  \\\n",
      "precision      0.862613     0.362533    0.102564  0.817312      0.442570   \n",
      "recall         0.945608     0.187781    0.049020  0.817312      0.394136   \n",
      "f1-score       0.902206     0.247410    0.066335  0.817312      0.405317   \n",
      "support    13366.000000  2226.000000  408.000000  0.817312  16000.000000   \n",
      "\n",
      "           weighted avg  \n",
      "precision      0.773658  \n",
      "recall         0.817312  \n",
      "f1-score       0.789793  \n",
      "support    16000.000000  \n",
      "_______________________________________________\n",
      "Confusion Matrix: \n",
      " [[12639   616   111]\n",
      " [ 1744   418    64]\n",
      " [  269   119    20]]\n",
      "\n"
     ]
    },
    {
     "data": {
      "image/png": "[encoded data removed]",
      "text/plain": [
       "<Figure size 432x288 with 4 Axes>"
      ]
     },
     "metadata": {
      "needs_background": "light"
     },
     "output_type": "display_data"
    }
   ],
   "source": [
    "#random forest\n",
    "rf = RandomForestClassifier()\n",
    "rf.fit(X_train, y_train)\n",
    "scores(rf, X_train, y_train, X_test, y_test)"
   ]
  },
  {
   "cell_type": "code",
   "execution_count": 59,
   "metadata": {},
   "outputs": [
    {
     "name": "stdout",
     "output_type": "stream",
     "text": [
      "Train Result:\n",
      "================================================\n",
      "Training Accuracy Score: 86.36%\n",
      "_______________________________________________\n",
      "CLASSIFICATION REPORT:\n",
      "                      0            1            2  accuracy     macro avg  \\\n",
      "precision      0.881784     0.646526     0.622222  0.863594      0.716844   \n",
      "recall         0.976326     0.342860     0.066155  0.863594      0.461780   \n",
      "f1-score       0.926650     0.448092     0.119594  0.863594      0.498112   \n",
      "support    53350.000000  8957.000000  1693.000000  0.863594  64000.000000   \n",
      "\n",
      "           weighted avg  \n",
      "precision      0.841993  \n",
      "recall         0.863594  \n",
      "f1-score       0.838325  \n",
      "support    64000.000000  \n",
      "_______________________________________________\n",
      "Confusion Matrix: \n",
      " [[52087  1248    15]\n",
      " [ 5833  3071    53]\n",
      " [ 1150   431   112]]\n",
      "\n",
      "Test Result:\n",
      "================================================\n",
      "Testing Accuracy Score: 82.58%\n",
      "_______________________________________________\n",
      "CLASSIFICATION REPORT:\n",
      "                      0            1           2  accuracy     macro avg  \\\n",
      "precision      0.861857     0.379736    0.234043  0.825812      0.491878   \n",
      "recall         0.955484     0.193621    0.026961  0.825812      0.392022   \n",
      "f1-score       0.906259     0.256471    0.048352  0.825812      0.403694   \n",
      "support    13366.000000  2226.000000  408.000000  0.825812  16000.000000   \n",
      "\n",
      "           weighted avg  \n",
      "precision      0.778773  \n",
      "recall         0.825812  \n",
      "f1-score       0.793981  \n",
      "support    16000.000000  \n",
      "_______________________________________________\n",
      "Confusion Matrix: \n",
      " [[12771   578    17]\n",
      " [ 1776   431    19]\n",
      " [  271   126    11]]\n",
      "\n"
     ]
    },
    {
     "data": {
      "image/png": "[encoded data removed]",
      "text/plain": [
       "<Figure size 432x288 with 4 Axes>"
      ]
     },
     "metadata": {
      "needs_background": "light"
     },
     "output_type": "display_data"
    }
   ],
   "source": [
    "#knn\n",
    "knn = KNeighborsClassifier()\n",
    "knn.fit(X_train, y_train)\n",
    "scores(knn, X_train, y_train, X_test, y_test)"
   ]
  },
  {
   "cell_type": "markdown",
   "metadata": {},
   "source": [
    "#taking more time\n",
    "\n",
    "from sklearn.svm import SVC\n",
    "svclassifier = SVC(kernel='linear')\n",
    "svclassifier.fit(X_train, y_train)\n",
    "\n",
    "scores(svclassifier, X_train, y_train, X_test, y_test)"
   ]
  },
  {
   "cell_type": "code",
   "execution_count": 60,
   "metadata": {
    "scrolled": false
   },
   "outputs": [
    {
     "name": "stderr",
     "output_type": "stream",
     "text": [
      "/Users/priya/opt/anaconda3/lib/python3.8/site-packages/sklearn/metrics/_classification.py:1221: UndefinedMetricWarning: Precision and F-score are ill-defined and being set to 0.0 in labels with no predicted samples. Use `zero_division` parameter to control this behavior.\n",
      "  _warn_prf(average, modifier, msg_start, len(result))\n"
     ]
    },
    {
     "name": "stdout",
     "output_type": "stream",
     "text": [
      "Train Result:\n",
      "================================================\n",
      "Training Accuracy Score: 84.35%\n",
      "_______________________________________________\n",
      "CLASSIFICATION REPORT:\n",
      "                      0            1       2  accuracy     macro avg  \\\n",
      "precision      0.852006     0.573327     0.0  0.843484      0.475111   \n",
      "recall         0.990834     0.125265     0.0  0.843484      0.372033   \n",
      "f1-score       0.916191     0.205607     0.0  0.843484      0.373933   \n",
      "support    53350.000000  8957.000000  1693.0  0.843484  64000.000000   \n",
      "\n",
      "           weighted avg  \n",
      "precision      0.790466  \n",
      "recall         0.843484  \n",
      "f1-score       0.792506  \n",
      "support    64000.000000  \n",
      "_______________________________________________\n",
      "Confusion Matrix: \n",
      " [[52861   489     0]\n",
      " [ 7835  1122     0]\n",
      " [ 1347   346     0]]\n",
      "\n"
     ]
    },
    {
     "name": "stderr",
     "output_type": "stream",
     "text": [
      "/Users/priya/opt/anaconda3/lib/python3.8/site-packages/sklearn/metrics/_classification.py:1221: UndefinedMetricWarning: Precision and F-score are ill-defined and being set to 0.0 in labels with no predicted samples. Use `zero_division` parameter to control this behavior.\n",
      "  _warn_prf(average, modifier, msg_start, len(result))\n"
     ]
    },
    {
     "name": "stdout",
     "output_type": "stream",
     "text": [
      "Test Result:\n",
      "================================================\n",
      "Testing Accuracy Score: 84.24%\n",
      "_______________________________________________\n",
      "CLASSIFICATION REPORT:\n",
      "                      0            1      2  accuracy     macro avg  \\\n",
      "precision      0.852372     0.524590    0.0  0.842375      0.458988   \n",
      "recall         0.989226     0.115004    0.0  0.842375      0.368077   \n",
      "f1-score       0.915714     0.188651    0.0  0.842375      0.368122   \n",
      "support    13366.000000  2226.000000  408.0  0.842375  16000.000000   \n",
      "\n",
      "           weighted avg  \n",
      "precision      0.785034  \n",
      "recall         0.842375  \n",
      "f1-score       0.791211  \n",
      "support    16000.000000  \n",
      "_______________________________________________\n",
      "Confusion Matrix: \n",
      " [[13222   144     0]\n",
      " [ 1970   256     0]\n",
      " [  320    88     0]]\n",
      "\n"
     ]
    },
    {
     "data": {
      "image/png": "[encoded data removed]",
      "text/plain": [
       "<Figure size 432x288 with 4 Axes>"
      ]
     },
     "metadata": {
      "needs_background": "light"
     },
     "output_type": "display_data"
    }
   ],
   "source": [
    "from xgboost import XGBClassifier\n",
    "\n",
    "xgb_clf = XGBClassifier()\n",
    "xgb_clf.fit(X_train, y_train)\n",
    "\n",
    "scores(xgb_clf, X_train, y_train, X_test, y_test)"
   ]
  },
  {
   "cell_type": "code",
   "execution_count": 61,
   "metadata": {},
   "outputs": [],
   "source": [
    "results = pd.DataFrame(results_df, columns=['Model', 'Training Accuracy %', 'Testing Accuracy %'])"
   ]
  },
  {
   "cell_type": "code",
   "execution_count": 62,
   "metadata": {},
   "outputs": [
    {
     "data": {
      "text/html": [
       "<div>\n",
       "<style scoped>\n",
       "    .dataframe tbody tr th:only-of-type {\n",
       "        vertical-align: middle;\n",
       "    }\n",
       "\n",
       "    .dataframe tbody tr th {\n",
       "        vertical-align: top;\n",
       "    }\n",
       "\n",
       "    .dataframe thead th {\n",
       "        text-align: right;\n",
       "    }\n",
       "</style>\n",
       "<table border=\"1\" class=\"dataframe\">\n",
       "  <thead>\n",
       "    <tr style=\"text-align: right;\">\n",
       "      <th></th>\n",
       "      <th>Model</th>\n",
       "      <th>Training Accuracy %</th>\n",
       "      <th>Testing Accuracy %</th>\n",
       "    </tr>\n",
       "  </thead>\n",
       "  <tbody>\n",
       "    <tr>\n",
       "      <th>0</th>\n",
       "      <td>LogisticRegression()</td>\n",
       "      <td>83.282813</td>\n",
       "      <td>83.48125</td>\n",
       "    </tr>\n",
       "    <tr>\n",
       "      <th>1</th>\n",
       "      <td>DecisionTreeClassifier()</td>\n",
       "      <td>98.403125</td>\n",
       "      <td>74.45000</td>\n",
       "    </tr>\n",
       "    <tr>\n",
       "      <th>2</th>\n",
       "      <td>(DecisionTreeClassifier(max_features='auto', r...</td>\n",
       "      <td>98.396875</td>\n",
       "      <td>81.73125</td>\n",
       "    </tr>\n",
       "    <tr>\n",
       "      <th>3</th>\n",
       "      <td>KNeighborsClassifier()</td>\n",
       "      <td>86.359375</td>\n",
       "      <td>82.58125</td>\n",
       "    </tr>\n",
       "    <tr>\n",
       "      <th>4</th>\n",
       "      <td>XGBClassifier(objective='multi:softprob')</td>\n",
       "      <td>84.348437</td>\n",
       "      <td>84.23750</td>\n",
       "    </tr>\n",
       "  </tbody>\n",
       "</table>\n",
       "</div>"
      ],
      "text/plain": [
       "                                               Model  Training Accuracy %  \\\n",
       "0                               LogisticRegression()            83.282813   \n",
       "1                           DecisionTreeClassifier()            98.403125   \n",
       "2  (DecisionTreeClassifier(max_features='auto', r...            98.396875   \n",
       "3                             KNeighborsClassifier()            86.359375   \n",
       "4          XGBClassifier(objective='multi:softprob')            84.348437   \n",
       "\n",
       "   Testing Accuracy %  \n",
       "0            83.48125  \n",
       "1            74.45000  \n",
       "2            81.73125  \n",
       "3            82.58125  \n",
       "4            84.23750  "
      ]
     },
     "execution_count": 62,
     "metadata": {},
     "output_type": "execute_result"
    }
   ],
   "source": [
    "results"
   ]
  },
  {
   "cell_type": "markdown",
   "metadata": {},
   "source": [
    "we can see from the results that xgb is giving good accuracy as well as good precision,recall.\n",
    "\n",
    "\n",
    "Hence i select my final model as XGB"
   ]
  },
  {
   "cell_type": "markdown",
   "metadata": {},
   "source": [
    "## preprocessing test data"
   ]
  },
  {
   "cell_type": "code",
   "execution_count": 70,
   "metadata": {},
   "outputs": [
    {
     "data": {
      "text/html": [
       "<div>\n",
       "<style scoped>\n",
       "    .dataframe tbody tr th:only-of-type {\n",
       "        vertical-align: middle;\n",
       "    }\n",
       "\n",
       "    .dataframe tbody tr th {\n",
       "        vertical-align: top;\n",
       "    }\n",
       "\n",
       "    .dataframe thead th {\n",
       "        text-align: right;\n",
       "    }\n",
       "</style>\n",
       "<table border=\"1\" class=\"dataframe\">\n",
       "  <thead>\n",
       "    <tr style=\"text-align: right;\">\n",
       "      <th></th>\n",
       "      <th>ID</th>\n",
       "      <th>Insects</th>\n",
       "      <th>Crop</th>\n",
       "      <th>Soil</th>\n",
       "      <th>Category_of_Toxicant</th>\n",
       "      <th>Does_count</th>\n",
       "      <th>Number_of_Weeks_Used</th>\n",
       "      <th>Number_Weeks_does_not used</th>\n",
       "      <th>Season</th>\n",
       "    </tr>\n",
       "  </thead>\n",
       "  <tbody>\n",
       "    <tr>\n",
       "      <th>0</th>\n",
       "      <td>1</td>\n",
       "      <td>188</td>\n",
       "      <td>Feed</td>\n",
       "      <td>silt</td>\n",
       "      <td>1</td>\n",
       "      <td>0</td>\n",
       "      <td>NaN</td>\n",
       "      <td>0</td>\n",
       "      <td>2</td>\n",
       "    </tr>\n",
       "    <tr>\n",
       "      <th>1</th>\n",
       "      <td>2</td>\n",
       "      <td>410</td>\n",
       "      <td>Feed</td>\n",
       "      <td>silt</td>\n",
       "      <td>1</td>\n",
       "      <td>0</td>\n",
       "      <td>0.0</td>\n",
       "      <td>0</td>\n",
       "      <td>2</td>\n",
       "    </tr>\n",
       "    <tr>\n",
       "      <th>2</th>\n",
       "      <td>3</td>\n",
       "      <td>626</td>\n",
       "      <td>Feed</td>\n",
       "      <td>clay</td>\n",
       "      <td>1</td>\n",
       "      <td>0</td>\n",
       "      <td>0.0</td>\n",
       "      <td>0</td>\n",
       "      <td>2</td>\n",
       "    </tr>\n",
       "    <tr>\n",
       "      <th>3</th>\n",
       "      <td>4</td>\n",
       "      <td>731</td>\n",
       "      <td>Feed</td>\n",
       "      <td>clay</td>\n",
       "      <td>1</td>\n",
       "      <td>0</td>\n",
       "      <td>0.0</td>\n",
       "      <td>0</td>\n",
       "      <td>2</td>\n",
       "    </tr>\n",
       "    <tr>\n",
       "      <th>4</th>\n",
       "      <td>5</td>\n",
       "      <td>789</td>\n",
       "      <td>Food</td>\n",
       "      <td>clay</td>\n",
       "      <td>1</td>\n",
       "      <td>0</td>\n",
       "      <td>0.0</td>\n",
       "      <td>0</td>\n",
       "      <td>1</td>\n",
       "    </tr>\n",
       "    <tr>\n",
       "      <th>...</th>\n",
       "      <td>...</td>\n",
       "      <td>...</td>\n",
       "      <td>...</td>\n",
       "      <td>...</td>\n",
       "      <td>...</td>\n",
       "      <td>...</td>\n",
       "      <td>...</td>\n",
       "      <td>...</td>\n",
       "      <td>...</td>\n",
       "    </tr>\n",
       "    <tr>\n",
       "      <th>34995</th>\n",
       "      <td>34996</td>\n",
       "      <td>677</td>\n",
       "      <td>Food</td>\n",
       "      <td>silt</td>\n",
       "      <td>2</td>\n",
       "      <td>40</td>\n",
       "      <td>27.0</td>\n",
       "      <td>3</td>\n",
       "      <td>1</td>\n",
       "    </tr>\n",
       "    <tr>\n",
       "      <th>34996</th>\n",
       "      <td>34997</td>\n",
       "      <td>731</td>\n",
       "      <td>Food</td>\n",
       "      <td>silt</td>\n",
       "      <td>2</td>\n",
       "      <td>10</td>\n",
       "      <td>8.0</td>\n",
       "      <td>20</td>\n",
       "      <td>3</td>\n",
       "    </tr>\n",
       "    <tr>\n",
       "      <th>34997</th>\n",
       "      <td>34998</td>\n",
       "      <td>732</td>\n",
       "      <td>Food</td>\n",
       "      <td>silt</td>\n",
       "      <td>2</td>\n",
       "      <td>10</td>\n",
       "      <td>10.0</td>\n",
       "      <td>20</td>\n",
       "      <td>2</td>\n",
       "    </tr>\n",
       "    <tr>\n",
       "      <th>34998</th>\n",
       "      <td>34999</td>\n",
       "      <td>731</td>\n",
       "      <td>Food</td>\n",
       "      <td>silt</td>\n",
       "      <td>2</td>\n",
       "      <td>10</td>\n",
       "      <td>31.0</td>\n",
       "      <td>2</td>\n",
       "      <td>2</td>\n",
       "    </tr>\n",
       "    <tr>\n",
       "      <th>34999</th>\n",
       "      <td>35000</td>\n",
       "      <td>731</td>\n",
       "      <td>Food</td>\n",
       "      <td>silt</td>\n",
       "      <td>2</td>\n",
       "      <td>15</td>\n",
       "      <td>8.0</td>\n",
       "      <td>16</td>\n",
       "      <td>1</td>\n",
       "    </tr>\n",
       "  </tbody>\n",
       "</table>\n",
       "<p>35000 rows × 9 columns</p>\n",
       "</div>"
      ],
      "text/plain": [
       "          ID  Insects  Crop  Soil  Category_of_Toxicant  Does_count  \\\n",
       "0          1      188  Feed  silt                     1           0   \n",
       "1          2      410  Feed  silt                     1           0   \n",
       "2          3      626  Feed  clay                     1           0   \n",
       "3          4      731  Feed  clay                     1           0   \n",
       "4          5      789  Food  clay                     1           0   \n",
       "...      ...      ...   ...   ...                   ...         ...   \n",
       "34995  34996      677  Food  silt                     2          40   \n",
       "34996  34997      731  Food  silt                     2          10   \n",
       "34997  34998      732  Food  silt                     2          10   \n",
       "34998  34999      731  Food  silt                     2          10   \n",
       "34999  35000      731  Food  silt                     2          15   \n",
       "\n",
       "       Number_of_Weeks_Used  Number_Weeks_does_not used  Season  \n",
       "0                       NaN                           0       2  \n",
       "1                       0.0                           0       2  \n",
       "2                       0.0                           0       2  \n",
       "3                       0.0                           0       2  \n",
       "4                       0.0                           0       1  \n",
       "...                     ...                         ...     ...  \n",
       "34995                  27.0                           3       1  \n",
       "34996                   8.0                          20       3  \n",
       "34997                  10.0                          20       2  \n",
       "34998                  31.0                           2       2  \n",
       "34999                   8.0                          16       1  \n",
       "\n",
       "[35000 rows x 9 columns]"
      ]
     },
     "execution_count": 70,
     "metadata": {},
     "output_type": "execute_result"
    }
   ],
   "source": [
    "to_predict_data = pd.read_excel('/Users/priya/Desktop/Bootcamp_ml_problem/test_cropstatus.xlsx')\n",
    "to_predict = to_predict_data.copy()\n",
    "to_predict"
   ]
  },
  {
   "cell_type": "code",
   "execution_count": 71,
   "metadata": {},
   "outputs": [
    {
     "data": {
      "text/html": [
       "<div>\n",
       "<style scoped>\n",
       "    .dataframe tbody tr th:only-of-type {\n",
       "        vertical-align: middle;\n",
       "    }\n",
       "\n",
       "    .dataframe tbody tr th {\n",
       "        vertical-align: top;\n",
       "    }\n",
       "\n",
       "    .dataframe thead th {\n",
       "        text-align: right;\n",
       "    }\n",
       "</style>\n",
       "<table border=\"1\" class=\"dataframe\">\n",
       "  <thead>\n",
       "    <tr style=\"text-align: right;\">\n",
       "      <th></th>\n",
       "      <th>Insects</th>\n",
       "      <th>Crop</th>\n",
       "      <th>Soil</th>\n",
       "      <th>Category_of_Toxicant</th>\n",
       "      <th>Does_count</th>\n",
       "      <th>Number_of_Weeks_Used</th>\n",
       "      <th>Number_Weeks_does_not used</th>\n",
       "      <th>Season</th>\n",
       "    </tr>\n",
       "  </thead>\n",
       "  <tbody>\n",
       "    <tr>\n",
       "      <th>0</th>\n",
       "      <td>188</td>\n",
       "      <td>Feed</td>\n",
       "      <td>silt</td>\n",
       "      <td>1</td>\n",
       "      <td>0</td>\n",
       "      <td>NaN</td>\n",
       "      <td>0</td>\n",
       "      <td>2</td>\n",
       "    </tr>\n",
       "    <tr>\n",
       "      <th>1</th>\n",
       "      <td>410</td>\n",
       "      <td>Feed</td>\n",
       "      <td>silt</td>\n",
       "      <td>1</td>\n",
       "      <td>0</td>\n",
       "      <td>0.0</td>\n",
       "      <td>0</td>\n",
       "      <td>2</td>\n",
       "    </tr>\n",
       "    <tr>\n",
       "      <th>2</th>\n",
       "      <td>626</td>\n",
       "      <td>Feed</td>\n",
       "      <td>clay</td>\n",
       "      <td>1</td>\n",
       "      <td>0</td>\n",
       "      <td>0.0</td>\n",
       "      <td>0</td>\n",
       "      <td>2</td>\n",
       "    </tr>\n",
       "    <tr>\n",
       "      <th>3</th>\n",
       "      <td>731</td>\n",
       "      <td>Feed</td>\n",
       "      <td>clay</td>\n",
       "      <td>1</td>\n",
       "      <td>0</td>\n",
       "      <td>0.0</td>\n",
       "      <td>0</td>\n",
       "      <td>2</td>\n",
       "    </tr>\n",
       "    <tr>\n",
       "      <th>4</th>\n",
       "      <td>789</td>\n",
       "      <td>Food</td>\n",
       "      <td>clay</td>\n",
       "      <td>1</td>\n",
       "      <td>0</td>\n",
       "      <td>0.0</td>\n",
       "      <td>0</td>\n",
       "      <td>1</td>\n",
       "    </tr>\n",
       "    <tr>\n",
       "      <th>...</th>\n",
       "      <td>...</td>\n",
       "      <td>...</td>\n",
       "      <td>...</td>\n",
       "      <td>...</td>\n",
       "      <td>...</td>\n",
       "      <td>...</td>\n",
       "      <td>...</td>\n",
       "      <td>...</td>\n",
       "    </tr>\n",
       "    <tr>\n",
       "      <th>34995</th>\n",
       "      <td>677</td>\n",
       "      <td>Food</td>\n",
       "      <td>silt</td>\n",
       "      <td>2</td>\n",
       "      <td>40</td>\n",
       "      <td>27.0</td>\n",
       "      <td>3</td>\n",
       "      <td>1</td>\n",
       "    </tr>\n",
       "    <tr>\n",
       "      <th>34996</th>\n",
       "      <td>731</td>\n",
       "      <td>Food</td>\n",
       "      <td>silt</td>\n",
       "      <td>2</td>\n",
       "      <td>10</td>\n",
       "      <td>8.0</td>\n",
       "      <td>20</td>\n",
       "      <td>3</td>\n",
       "    </tr>\n",
       "    <tr>\n",
       "      <th>34997</th>\n",
       "      <td>732</td>\n",
       "      <td>Food</td>\n",
       "      <td>silt</td>\n",
       "      <td>2</td>\n",
       "      <td>10</td>\n",
       "      <td>10.0</td>\n",
       "      <td>20</td>\n",
       "      <td>2</td>\n",
       "    </tr>\n",
       "    <tr>\n",
       "      <th>34998</th>\n",
       "      <td>731</td>\n",
       "      <td>Food</td>\n",
       "      <td>silt</td>\n",
       "      <td>2</td>\n",
       "      <td>10</td>\n",
       "      <td>31.0</td>\n",
       "      <td>2</td>\n",
       "      <td>2</td>\n",
       "    </tr>\n",
       "    <tr>\n",
       "      <th>34999</th>\n",
       "      <td>731</td>\n",
       "      <td>Food</td>\n",
       "      <td>silt</td>\n",
       "      <td>2</td>\n",
       "      <td>15</td>\n",
       "      <td>8.0</td>\n",
       "      <td>16</td>\n",
       "      <td>1</td>\n",
       "    </tr>\n",
       "  </tbody>\n",
       "</table>\n",
       "<p>35000 rows × 8 columns</p>\n",
       "</div>"
      ],
      "text/plain": [
       "       Insects  Crop  Soil  Category_of_Toxicant  Does_count  \\\n",
       "0          188  Feed  silt                     1           0   \n",
       "1          410  Feed  silt                     1           0   \n",
       "2          626  Feed  clay                     1           0   \n",
       "3          731  Feed  clay                     1           0   \n",
       "4          789  Food  clay                     1           0   \n",
       "...        ...   ...   ...                   ...         ...   \n",
       "34995      677  Food  silt                     2          40   \n",
       "34996      731  Food  silt                     2          10   \n",
       "34997      732  Food  silt                     2          10   \n",
       "34998      731  Food  silt                     2          10   \n",
       "34999      731  Food  silt                     2          15   \n",
       "\n",
       "       Number_of_Weeks_Used  Number_Weeks_does_not used  Season  \n",
       "0                       NaN                           0       2  \n",
       "1                       0.0                           0       2  \n",
       "2                       0.0                           0       2  \n",
       "3                       0.0                           0       2  \n",
       "4                       0.0                           0       1  \n",
       "...                     ...                         ...     ...  \n",
       "34995                  27.0                           3       1  \n",
       "34996                   8.0                          20       3  \n",
       "34997                  10.0                          20       2  \n",
       "34998                  31.0                           2       2  \n",
       "34999                   8.0                          16       1  \n",
       "\n",
       "[35000 rows x 8 columns]"
      ]
     },
     "execution_count": 71,
     "metadata": {},
     "output_type": "execute_result"
    }
   ],
   "source": [
    "to_predict = to_predict.iloc[:,1:]\n",
    "to_predict"
   ]
  },
  {
   "cell_type": "code",
   "execution_count": 72,
   "metadata": {},
   "outputs": [
    {
     "data": {
      "text/plain": [
       "Insects                          0\n",
       "Crop                             0\n",
       "Soil                             0\n",
       "Category_of_Toxicant             0\n",
       "Does_count                       0\n",
       "Number_of_Weeks_Used          3542\n",
       "Number_Weeks_does_not used       0\n",
       "Season                           0\n",
       "dtype: int64"
      ]
     },
     "execution_count": 72,
     "metadata": {},
     "output_type": "execute_result"
    }
   ],
   "source": [
    "to_predict.isna().sum()"
   ]
  },
  {
   "cell_type": "code",
   "execution_count": 73,
   "metadata": {},
   "outputs": [
    {
     "data": {
      "text/plain": [
       "Insects                       0\n",
       "Crop                          0\n",
       "Soil                          0\n",
       "Category_of_Toxicant          0\n",
       "Does_count                    0\n",
       "Number_of_Weeks_Used          0\n",
       "Number_Weeks_does_not used    0\n",
       "Season                        0\n",
       "dtype: int64"
      ]
     },
     "execution_count": 73,
     "metadata": {},
     "output_type": "execute_result"
    }
   ],
   "source": [
    "#handling missing values\n",
    "to_predict.Number_of_Weeks_Used=to_predict.Number_of_Weeks_Used.fillna(data.Number_of_Weeks_Used.median())\n",
    "to_predict.isna().sum()"
   ]
  },
  {
   "cell_type": "code",
   "execution_count": 74,
   "metadata": {},
   "outputs": [
    {
     "name": "stdout",
     "output_type": "stream",
     "text": [
      "<class 'pandas.core.frame.DataFrame'>\n",
      "RangeIndex: 35000 entries, 0 to 34999\n",
      "Data columns (total 8 columns):\n",
      " #   Column                      Non-Null Count  Dtype  \n",
      "---  ------                      --------------  -----  \n",
      " 0   Insects                     35000 non-null  int64  \n",
      " 1   Crop                        35000 non-null  int64  \n",
      " 2   Soil                        35000 non-null  int64  \n",
      " 3   Category_of_Toxicant        35000 non-null  int64  \n",
      " 4   Does_count                  35000 non-null  int64  \n",
      " 5   Number_of_Weeks_Used        35000 non-null  float64\n",
      " 6   Number_Weeks_does_not used  35000 non-null  int64  \n",
      " 7   Season                      35000 non-null  int64  \n",
      "dtypes: float64(1), int64(7)\n",
      "memory usage: 2.1 MB\n"
     ]
    }
   ],
   "source": [
    "#changing object data type cols to  labelled cols\n",
    "to_predict['Crop'].replace(['Feed','Food'],[0,1], inplace=True)\n",
    "to_predict['Soil'].replace(['clay','silt'],[0,1], inplace=True)\n",
    "to_predict.info()"
   ]
  },
  {
   "cell_type": "code",
   "execution_count": 75,
   "metadata": {},
   "outputs": [
    {
     "data": {
      "text/html": [
       "<div>\n",
       "<style scoped>\n",
       "    .dataframe tbody tr th:only-of-type {\n",
       "        vertical-align: middle;\n",
       "    }\n",
       "\n",
       "    .dataframe tbody tr th {\n",
       "        vertical-align: top;\n",
       "    }\n",
       "\n",
       "    .dataframe thead th {\n",
       "        text-align: right;\n",
       "    }\n",
       "</style>\n",
       "<table border=\"1\" class=\"dataframe\">\n",
       "  <thead>\n",
       "    <tr style=\"text-align: right;\">\n",
       "      <th></th>\n",
       "      <th>Insects</th>\n",
       "      <th>Crop</th>\n",
       "      <th>Soil</th>\n",
       "      <th>Category_of_Toxicant</th>\n",
       "      <th>Does_count</th>\n",
       "      <th>Number_of_Weeks_Used</th>\n",
       "      <th>Number_Weeks_does_not used</th>\n",
       "      <th>Season</th>\n",
       "    </tr>\n",
       "  </thead>\n",
       "  <tbody>\n",
       "    <tr>\n",
       "      <th>0</th>\n",
       "      <td>-1.419745</td>\n",
       "      <td>-1.585689</td>\n",
       "      <td>1.095956</td>\n",
       "      <td>-2.723919</td>\n",
       "      <td>-1.665629</td>\n",
       "      <td>-0.013897</td>\n",
       "      <td>-0.958744</td>\n",
       "      <td>0.142230</td>\n",
       "    </tr>\n",
       "    <tr>\n",
       "      <th>1</th>\n",
       "      <td>-1.158402</td>\n",
       "      <td>-1.585689</td>\n",
       "      <td>1.095956</td>\n",
       "      <td>-2.723919</td>\n",
       "      <td>-1.665629</td>\n",
       "      <td>-2.438658</td>\n",
       "      <td>-0.958744</td>\n",
       "      <td>0.142230</td>\n",
       "    </tr>\n",
       "    <tr>\n",
       "      <th>2</th>\n",
       "      <td>-0.904123</td>\n",
       "      <td>-1.585689</td>\n",
       "      <td>-0.912445</td>\n",
       "      <td>-2.723919</td>\n",
       "      <td>-1.665629</td>\n",
       "      <td>-2.438658</td>\n",
       "      <td>-0.958744</td>\n",
       "      <td>0.142230</td>\n",
       "    </tr>\n",
       "    <tr>\n",
       "      <th>3</th>\n",
       "      <td>-0.780515</td>\n",
       "      <td>-1.585689</td>\n",
       "      <td>-0.912445</td>\n",
       "      <td>-2.723919</td>\n",
       "      <td>-1.665629</td>\n",
       "      <td>-2.438658</td>\n",
       "      <td>-0.958744</td>\n",
       "      <td>0.142230</td>\n",
       "    </tr>\n",
       "    <tr>\n",
       "      <th>4</th>\n",
       "      <td>-0.712236</td>\n",
       "      <td>0.630641</td>\n",
       "      <td>-0.912445</td>\n",
       "      <td>-2.723919</td>\n",
       "      <td>-1.665629</td>\n",
       "      <td>-2.438658</td>\n",
       "      <td>-0.958744</td>\n",
       "      <td>-1.282922</td>\n",
       "    </tr>\n",
       "  </tbody>\n",
       "</table>\n",
       "</div>"
      ],
      "text/plain": [
       "    Insects      Crop      Soil  Category_of_Toxicant  Does_count  \\\n",
       "0 -1.419745 -1.585689  1.095956             -2.723919   -1.665629   \n",
       "1 -1.158402 -1.585689  1.095956             -2.723919   -1.665629   \n",
       "2 -0.904123 -1.585689 -0.912445             -2.723919   -1.665629   \n",
       "3 -0.780515 -1.585689 -0.912445             -2.723919   -1.665629   \n",
       "4 -0.712236  0.630641 -0.912445             -2.723919   -1.665629   \n",
       "\n",
       "   Number_of_Weeks_Used  Number_Weeks_does_not used    Season  \n",
       "0             -0.013897                   -0.958744  0.142230  \n",
       "1             -2.438658                   -0.958744  0.142230  \n",
       "2             -2.438658                   -0.958744  0.142230  \n",
       "3             -2.438658                   -0.958744  0.142230  \n",
       "4             -2.438658                   -0.958744 -1.282922  "
      ]
     },
     "execution_count": 75,
     "metadata": {},
     "output_type": "execute_result"
    }
   ],
   "source": [
    "# scaling the data\n",
    "from sklearn.preprocessing import StandardScaler\n",
    "sc=StandardScaler()\n",
    "topredict=sc.fit_transform(to_predict)\n",
    "toPredictdata=pd.DataFrame(topredict,columns=to_predict.columns)\n",
    "toPredictdata.head()"
   ]
  },
  {
   "cell_type": "code",
   "execution_count": 76,
   "metadata": {},
   "outputs": [
    {
     "data": {
      "text/plain": [
       "array([1, 1, 1, ..., 0, 0, 0])"
      ]
     },
     "execution_count": 76,
     "metadata": {},
     "output_type": "execute_result"
    }
   ],
   "source": [
    "#predicting\n",
    "pred = xgb_clf.predict(toPredictdata)\n",
    "pred"
   ]
  },
  {
   "cell_type": "code",
   "execution_count": 77,
   "metadata": {},
   "outputs": [
    {
     "data": {
      "text/html": [
       "<div>\n",
       "<style scoped>\n",
       "    .dataframe tbody tr th:only-of-type {\n",
       "        vertical-align: middle;\n",
       "    }\n",
       "\n",
       "    .dataframe tbody tr th {\n",
       "        vertical-align: top;\n",
       "    }\n",
       "\n",
       "    .dataframe thead th {\n",
       "        text-align: right;\n",
       "    }\n",
       "</style>\n",
       "<table border=\"1\" class=\"dataframe\">\n",
       "  <thead>\n",
       "    <tr style=\"text-align: right;\">\n",
       "      <th></th>\n",
       "      <th>ID</th>\n",
       "      <th>Crop_status</th>\n",
       "    </tr>\n",
       "  </thead>\n",
       "  <tbody>\n",
       "    <tr>\n",
       "      <th>0</th>\n",
       "      <td>1</td>\n",
       "      <td>1</td>\n",
       "    </tr>\n",
       "    <tr>\n",
       "      <th>1</th>\n",
       "      <td>2</td>\n",
       "      <td>1</td>\n",
       "    </tr>\n",
       "    <tr>\n",
       "      <th>2</th>\n",
       "      <td>3</td>\n",
       "      <td>1</td>\n",
       "    </tr>\n",
       "    <tr>\n",
       "      <th>3</th>\n",
       "      <td>4</td>\n",
       "      <td>1</td>\n",
       "    </tr>\n",
       "    <tr>\n",
       "      <th>4</th>\n",
       "      <td>5</td>\n",
       "      <td>1</td>\n",
       "    </tr>\n",
       "  </tbody>\n",
       "</table>\n",
       "</div>"
      ],
      "text/plain": [
       "   ID  Crop_status\n",
       "0   1            1\n",
       "1   2            1\n",
       "2   3            1\n",
       "3   4            1\n",
       "4   5            1"
      ]
     },
     "execution_count": 77,
     "metadata": {},
     "output_type": "execute_result"
    }
   ],
   "source": [
    "#predictions\n",
    "predictions = pd.DataFrame({\n",
    "    'ID':to_predict_data.ID.values,\n",
    "    'Crop_status':pred\n",
    "})\n",
    "predictions.head()"
   ]
  },
  {
   "cell_type": "code",
   "execution_count": 79,
   "metadata": {},
   "outputs": [],
   "source": [
    "predictions.to_csv('/Users/priya/Desktop/Bootcamp_ml_problem/final_predictions.csv',index=False,header=True)"
   ]
  }
 ],
 "metadata": {
  "kernelspec": {
   "display_name": "Python 3",
   "language": "python",
   "name": "python3"
  },
  "language_info": {
   "codemirror_mode": {
    "name": "ipython",
    "version": 3
   },
   "file_extension": ".py",
   "mimetype": "text/x-python",
   "name": "python",
   "nbconvert_exporter": "python",
   "pygments_lexer": "ipython3",
   "version": "3.8.5"
  }
 },
 "nbformat": 4,
 "nbformat_minor": 4
}
